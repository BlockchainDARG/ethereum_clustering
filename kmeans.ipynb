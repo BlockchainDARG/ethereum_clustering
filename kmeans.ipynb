{
 "cells": [
  {
   "cell_type": "markdown",
   "metadata": {},
   "source": [
    "K-Means"
   ]
  },
  {
   "cell_type": "code",
   "execution_count": 1,
   "metadata": {},
   "outputs": [],
   "source": [
    "%load_ext google.cloud.bigquery\n",
    "%matplotlib inline\n",
    "from google.cloud import bigquery\n",
    "client = bigquery.Client()\n",
    "import matplotlib.pyplot as plt\n",
    "import numpy as np\n",
    "import pandas as pd\n",
    "from sklearn import cluster\n",
    "from sklearn.metrics import silhouette_score, silhouette_samples\n",
    "from sklearn.preprocessing import StandardScaler\n",
    "from sklearn.decomposition import PCA\n",
    "from sklearn.pipeline import Pipeline\n",
    "import random\n",
    "from sklearn.cluster import KMeans\n",
    "import matplotlib.cm as cm"
   ]
  },
  {
   "cell_type": "code",
   "execution_count": 2,
   "metadata": {},
   "outputs": [],
   "source": [
    "sql = '''\n",
    "SELECT *  FROM `eth-tokens.alldata.clean_avg` LIMIT 5000\n",
    "'''\n",
    "\n",
    "df = client.query(sql).to_dataframe()"
   ]
  },
  {
   "cell_type": "code",
   "execution_count": 3,
   "metadata": {},
   "outputs": [],
   "source": [
    "#remove address (string) from analysis\n",
    "data = df.iloc[:,1:]"
   ]
  },
  {
   "cell_type": "code",
   "execution_count": 4,
   "metadata": {},
   "outputs": [],
   "source": [
    "#number of PCA features is full reconstruction, for now\n",
    "num_features = data.shape[1]\n",
    "num_clusters = 4"
   ]
  },
  {
   "cell_type": "code",
   "execution_count": 5,
   "metadata": {},
   "outputs": [
    {
     "data": {
      "text/plain": [
       "KMeans(algorithm='auto', copy_x=True, init='k-means++', max_iter=300,\n",
       "    n_clusters=4, n_init=10, n_jobs=1, precompute_distances='auto',\n",
       "    random_state=None, tol=0.0001, verbose=0)"
      ]
     },
     "execution_count": 5,
     "metadata": {},
     "output_type": "execute_result"
    }
   ],
   "source": [
    "scale = StandardScaler()\n",
    "pca =PCA(n_components=num_features)\n",
    "cl = KMeans(num_clusters)\n",
    "#build pipeline\n",
    "pipe = Pipeline([('scale', scale ),\n",
    "                 ('PCA', pca)])\n",
    "\n",
    "results = pipe.fit_transform(data)\n",
    "\n",
    "cl.fit(results)\n",
    "\n"
   ]
  },
  {
   "cell_type": "code",
   "execution_count": 6,
   "metadata": {},
   "outputs": [
    {
     "data": {
      "text/html": [
       "<div>\n",
       "<style scoped>\n",
       "    .dataframe tbody tr th:only-of-type {\n",
       "        vertical-align: middle;\n",
       "    }\n",
       "\n",
       "    .dataframe tbody tr th {\n",
       "        vertical-align: top;\n",
       "    }\n",
       "\n",
       "    .dataframe thead th {\n",
       "        text-align: right;\n",
       "    }\n",
       "</style>\n",
       "<table border=\"1\" class=\"dataframe\">\n",
       "  <thead>\n",
       "    <tr style=\"text-align: right;\">\n",
       "      <th></th>\n",
       "      <th>outgoing_txns</th>\n",
       "      <th>incoming_txns</th>\n",
       "      <th>total_eth_sent</th>\n",
       "      <th>avg_eth_sent</th>\n",
       "      <th>total_usd_sent</th>\n",
       "      <th>avg_usd_sent</th>\n",
       "      <th>total_eth_recd</th>\n",
       "      <th>avg_eth_recd</th>\n",
       "      <th>total_usd_recd</th>\n",
       "      <th>avg_usd_recd</th>\n",
       "      <th>...</th>\n",
       "      <th>monthly_eth_sent</th>\n",
       "      <th>monthly_usd_sent</th>\n",
       "      <th>monthly_eth_recd</th>\n",
       "      <th>monthly_usd_recd</th>\n",
       "      <th>contracts_created</th>\n",
       "      <th>contract_txns_sent</th>\n",
       "      <th>incoming_avg_time_btwn_txns</th>\n",
       "      <th>incoming_std_time_btwn_txns</th>\n",
       "      <th>outgoing_avg_time_btwn_txns</th>\n",
       "      <th>outgoing_std_time_btwn_txns</th>\n",
       "    </tr>\n",
       "  </thead>\n",
       "  <tbody>\n",
       "    <tr>\n",
       "      <th>0</th>\n",
       "      <td>8.639570</td>\n",
       "      <td>11.754115</td>\n",
       "      <td>50.683134</td>\n",
       "      <td>6.375049</td>\n",
       "      <td>1.908965e+04</td>\n",
       "      <td>1759.912492</td>\n",
       "      <td>55.608352</td>\n",
       "      <td>6.003069</td>\n",
       "      <td>2.062231e+04</td>\n",
       "      <td>1.830554e+03</td>\n",
       "      <td>...</td>\n",
       "      <td>15.334841</td>\n",
       "      <td>4.227678e+03</td>\n",
       "      <td>17.545042</td>\n",
       "      <td>4.782118e+03</td>\n",
       "      <td>2.653678e-02</td>\n",
       "      <td>2.683910e-01</td>\n",
       "      <td>3.325248e+05</td>\n",
       "      <td>3.291237e+05</td>\n",
       "      <td>342004.873606</td>\n",
       "      <td>3.422163e+05</td>\n",
       "    </tr>\n",
       "    <tr>\n",
       "      <th>1</th>\n",
       "      <td>28.709677</td>\n",
       "      <td>35.935484</td>\n",
       "      <td>8498.852198</td>\n",
       "      <td>337.449696</td>\n",
       "      <td>3.716790e+06</td>\n",
       "      <td>133327.937252</td>\n",
       "      <td>7344.354786</td>\n",
       "      <td>379.314658</td>\n",
       "      <td>3.099220e+06</td>\n",
       "      <td>1.655660e+05</td>\n",
       "      <td>...</td>\n",
       "      <td>827.994151</td>\n",
       "      <td>3.343440e+05</td>\n",
       "      <td>759.597368</td>\n",
       "      <td>3.042055e+05</td>\n",
       "      <td>3.476386e-15</td>\n",
       "      <td>3.947065e-12</td>\n",
       "      <td>1.001502e+06</td>\n",
       "      <td>1.604847e+06</td>\n",
       "      <td>668068.602371</td>\n",
       "      <td>1.370920e+06</td>\n",
       "    </tr>\n",
       "    <tr>\n",
       "      <th>2</th>\n",
       "      <td>19.666667</td>\n",
       "      <td>12.666667</td>\n",
       "      <td>23940.095369</td>\n",
       "      <td>1764.657422</td>\n",
       "      <td>1.463550e+07</td>\n",
       "      <td>758436.178875</td>\n",
       "      <td>24859.317667</td>\n",
       "      <td>3213.028092</td>\n",
       "      <td>1.396037e+07</td>\n",
       "      <td>1.458694e+06</td>\n",
       "      <td>...</td>\n",
       "      <td>3599.626555</td>\n",
       "      <td>1.585830e+06</td>\n",
       "      <td>3820.244607</td>\n",
       "      <td>1.591886e+06</td>\n",
       "      <td>1.765948e-14</td>\n",
       "      <td>1.633715e-11</td>\n",
       "      <td>1.768100e+05</td>\n",
       "      <td>4.143434e+05</td>\n",
       "      <td>716717.240513</td>\n",
       "      <td>1.729759e+06</td>\n",
       "    </tr>\n",
       "    <tr>\n",
       "      <th>3</th>\n",
       "      <td>25.713927</td>\n",
       "      <td>42.714932</td>\n",
       "      <td>127.796295</td>\n",
       "      <td>4.929312</td>\n",
       "      <td>5.725171e+04</td>\n",
       "      <td>2191.190438</td>\n",
       "      <td>140.756776</td>\n",
       "      <td>6.222590</td>\n",
       "      <td>6.085432e+04</td>\n",
       "      <td>2.562457e+03</td>\n",
       "      <td>...</td>\n",
       "      <td>11.467348</td>\n",
       "      <td>5.124107e+03</td>\n",
       "      <td>12.211096</td>\n",
       "      <td>5.435467e+03</td>\n",
       "      <td>9.451986e-02</td>\n",
       "      <td>3.467823e+01</td>\n",
       "      <td>9.274576e+05</td>\n",
       "      <td>1.300080e+06</td>\n",
       "      <td>766623.012868</td>\n",
       "      <td>1.258440e+06</td>\n",
       "    </tr>\n",
       "  </tbody>\n",
       "</table>\n",
       "<p>4 rows × 23 columns</p>\n",
       "</div>"
      ],
      "text/plain": [
       "   outgoing_txns  incoming_txns  total_eth_sent  avg_eth_sent  total_usd_sent  \\\n",
       "0       8.639570      11.754115       50.683134      6.375049    1.908965e+04   \n",
       "1      28.709677      35.935484     8498.852198    337.449696    3.716790e+06   \n",
       "2      19.666667      12.666667    23940.095369   1764.657422    1.463550e+07   \n",
       "3      25.713927      42.714932      127.796295      4.929312    5.725171e+04   \n",
       "\n",
       "    avg_usd_sent  total_eth_recd  avg_eth_recd  total_usd_recd  avg_usd_recd  \\\n",
       "0    1759.912492       55.608352      6.003069    2.062231e+04  1.830554e+03   \n",
       "1  133327.937252     7344.354786    379.314658    3.099220e+06  1.655660e+05   \n",
       "2  758436.178875    24859.317667   3213.028092    1.396037e+07  1.458694e+06   \n",
       "3    2191.190438      140.756776      6.222590    6.085432e+04  2.562457e+03   \n",
       "\n",
       "              ...               monthly_eth_sent  monthly_usd_sent  \\\n",
       "0             ...                      15.334841      4.227678e+03   \n",
       "1             ...                     827.994151      3.343440e+05   \n",
       "2             ...                    3599.626555      1.585830e+06   \n",
       "3             ...                      11.467348      5.124107e+03   \n",
       "\n",
       "   monthly_eth_recd  monthly_usd_recd  contracts_created  contract_txns_sent  \\\n",
       "0         17.545042      4.782118e+03       2.653678e-02        2.683910e-01   \n",
       "1        759.597368      3.042055e+05       3.476386e-15        3.947065e-12   \n",
       "2       3820.244607      1.591886e+06       1.765948e-14        1.633715e-11   \n",
       "3         12.211096      5.435467e+03       9.451986e-02        3.467823e+01   \n",
       "\n",
       "   incoming_avg_time_btwn_txns  incoming_std_time_btwn_txns  \\\n",
       "0                 3.325248e+05                 3.291237e+05   \n",
       "1                 1.001502e+06                 1.604847e+06   \n",
       "2                 1.768100e+05                 4.143434e+05   \n",
       "3                 9.274576e+05                 1.300080e+06   \n",
       "\n",
       "   outgoing_avg_time_btwn_txns  outgoing_std_time_btwn_txns  \n",
       "0                342004.873606                 3.422163e+05  \n",
       "1                668068.602371                 1.370920e+06  \n",
       "2                716717.240513                 1.729759e+06  \n",
       "3                766623.012868                 1.258440e+06  \n",
       "\n",
       "[4 rows x 23 columns]"
      ]
     },
     "execution_count": 6,
     "metadata": {},
     "output_type": "execute_result"
    }
   ],
   "source": [
    "#get centroids\n",
    "c = cl.cluster_centers_\n",
    "#transform back to real numbers\n",
    "medoids = scale.inverse_transform(pca.inverse_transform(c))\n",
    "pd.DataFrame(medoids, columns = data.columns)"
   ]
  },
  {
   "cell_type": "code",
   "execution_count": 7,
   "metadata": {},
   "outputs": [
    {
     "data": {
      "image/png": "[encoded data removed]",
      "text/plain": [
       "<Figure size 432x288 with 1 Axes>"
      ]
     },
     "metadata": {},
     "output_type": "display_data"
    }
   ],
   "source": [
    "#percent of variance explained by each component\n",
    "\n",
    "plt.plot(np.arange(pca.n_components_) ,np.cumsum(pca.explained_variance_ratio_)*100)\n",
    "plt.grid(b=True)\n",
    "plt.xlabel('principal component')\n",
    "plt.title('Cumulative Percent of Variance explained')\n",
    "plt.show()"
   ]
  },
  {
   "cell_type": "code",
   "execution_count": 8,
   "metadata": {},
   "outputs": [
    {
     "data": {
      "text/plain": [
       "<matplotlib.collections.PathCollection at 0x7fee40bc9668>"
      ]
     },
     "execution_count": 8,
     "metadata": {},
     "output_type": "execute_result"
    },
    {
     "data": {
      "image/png": "[encoded data removed]",
      "text/plain": [
       "<Figure size 432x288 with 1 Axes>"
      ]
     },
     "metadata": {},
     "output_type": "display_data"
    }
   ],
   "source": [
    "plt.scatter(results[:,0],results[:,1],c=cl.labels_, s=5)"
   ]
  },
  {
   "cell_type": "code",
   "execution_count": 9,
   "metadata": {},
   "outputs": [
    {
     "data": {
      "text/plain": [
       "<matplotlib.collections.PathCollection at 0x7fee40a3e3c8>"
      ]
     },
     "execution_count": 9,
     "metadata": {},
     "output_type": "execute_result"
    },
    {
     "data": {
      "image/png": "[encoded data removed]",
      "text/plain": [
       "<Figure size 432x288 with 1 Axes>"
      ]
     },
     "metadata": {},
     "output_type": "display_data"
    }
   ],
   "source": [
    "#plot in cluster distance space\n",
    "r = cl.transform(results)\n",
    "plt.scatter(r[:,3],r[:,2],c=cl.labels_, s=5)"
   ]
  },
  {
   "cell_type": "code",
   "execution_count": 10,
   "metadata": {},
   "outputs": [],
   "source": [
    "#elbow method\n"
   ]
  },
  {
   "cell_type": "code",
   "execution_count": 11,
   "metadata": {},
   "outputs": [],
   "source": [
    "#scoring metric?\n",
    "from sklearn.metrics import calinski_harabaz_score as ch_score\n",
    "clusters = [2, 3,4,5,6,7,8,9,10,12,15,20,25, 40]\n",
    "scores = []\n",
    "inertias = []\n",
    "for c in clusters:\n",
    "    cl_n = KMeans(c).fit(results)\n",
    "    score = ch_score(results, cl_n.labels_)\n",
    "    scores.append(score)\n",
    "    inertias.append(cl_n.inertia_)\n"
   ]
  },
  {
   "cell_type": "code",
   "execution_count": 12,
   "metadata": {},
   "outputs": [
    {
     "data": {
      "text/plain": [
       "Text(0.5,1,'Calinski Harabaz Scores')"
      ]
     },
     "execution_count": 12,
     "metadata": {},
     "output_type": "execute_result"
    },
    {
     "data": {
      "image/png": "[encoded data removed]",
      "text/plain": [
       "<Figure size 432x288 with 1 Axes>"
      ]
     },
     "metadata": {},
     "output_type": "display_data"
    }
   ],
   "source": [
    "plt.plot(clusters, scores)\n",
    "plt.title('Calinski Harabaz Scores')"
   ]
  },
  {
   "cell_type": "code",
   "execution_count": 13,
   "metadata": {},
   "outputs": [
    {
     "data": {
      "text/plain": [
       "Text(0,0.5,'within cluster sum of squares')"
      ]
     },
     "execution_count": 13,
     "metadata": {},
     "output_type": "execute_result"
    },
    {
     "data": {
      "image/png": "[encoded data removed]",
      "text/plain": [
       "<Figure size 432x288 with 1 Axes>"
      ]
     },
     "metadata": {},
     "output_type": "display_data"
    }
   ],
   "source": [
    "plt.plot(clusters,inertias)\n",
    "plt.title('Elbow plot')\n",
    "plt.ylabel('within cluster sum of squares')"
   ]
  },
  {
   "cell_type": "code",
   "execution_count": 14,
   "metadata": {},
   "outputs": [
    {
     "data": {
      "text/plain": [
       "KMeans(algorithm='auto', copy_x=True, init='k-means++', max_iter=300,\n",
       "    n_clusters=12, n_init=10, n_jobs=1, precompute_distances='auto',\n",
       "    random_state=None, tol=0.0001, verbose=0)"
      ]
     },
     "execution_count": 14,
     "metadata": {},
     "output_type": "execute_result"
    }
   ],
   "source": [
    "#optmal number of clusters is around 12\n",
    "cl = KMeans(12)\n",
    "cl.fit(results)"
   ]
  },
  {
   "cell_type": "code",
   "execution_count": 15,
   "metadata": {},
   "outputs": [],
   "source": [
    "#outlier removal\n",
    "\n",
    "\n",
    "\n",
    "def remove_outliers(results, cl, threshold):\n",
    "    '''\n",
    "    returns subset of results, and associated labels as a tuple\n",
    "    takes results and a fit KMeans cluster object'''\n",
    "    \n",
    "    new_labels = []\n",
    "    new_results = []\n",
    "    \n",
    "    \n",
    "    #code for deciding what clusters to keep\n",
    "    for i, center in enumerate(cl.cluster_centers_):\n",
    "        within_cluster_results = results[cl.labels_==i]\n",
    "        centroid = cl.cluster_centers_[i]\n",
    "        #calc std vectors\n",
    "        stdev = np.std(within_cluster_results, axis=0)\n",
    "       \n",
    "        keep = np.linalg.norm((centroid - within_cluster_results), axis=1) < threshold*np.linalg.norm(stdev)\n",
    "        new_results.append(within_cluster_results[keep])\n",
    "        #add labels?\n",
    "        new_labels.extend([i for j in range(len(within_cluster_results[keep]))])\n",
    "    return np.vstack(new_results), np.array(new_labels)\n"
   ]
  },
  {
   "cell_type": "code",
   "execution_count": null,
   "metadata": {},
   "outputs": [],
   "source": []
  },
  {
   "cell_type": "code",
   "execution_count": 16,
   "metadata": {},
   "outputs": [],
   "source": [
    "thresholds = np.linspace(.3,3, 20)\n",
    "\n",
    "test = [remove_outliers(results, cl,t) for t in thresholds]\n",
    "\n",
    "scores= []\n",
    "for (res, labels) in test:\n",
    "    \n",
    "    score = ch_score(res, labels)\n",
    "    scores.append(score)"
   ]
  },
  {
   "cell_type": "code",
   "execution_count": null,
   "metadata": {},
   "outputs": [],
   "source": []
  },
  {
   "cell_type": "code",
   "execution_count": 17,
   "metadata": {},
   "outputs": [
    {
     "data": {
      "text/plain": [
       "Text(0.5,1,'Calinski Harabaz Scores as std threshold changes')"
      ]
     },
     "execution_count": 17,
     "metadata": {},
     "output_type": "execute_result"
    },
    {
     "data": {
      "image/png": "[encoded data removed]",
      "text/plain": [
       "<Figure size 432x288 with 1 Axes>"
      ]
     },
     "metadata": {},
     "output_type": "display_data"
    }
   ],
   "source": [
    "plt.plot(thresholds, scores)\n",
    "plt.title('Calinski Harabaz Scores as std threshold changes')"
   ]
  },
  {
   "cell_type": "code",
   "execution_count": 18,
   "metadata": {},
   "outputs": [],
   "source": [
    "#empirical best threshold .75 stdev\n",
    "newresults, labels = remove_outliers(results, cl,.75)"
   ]
  },
  {
   "cell_type": "code",
   "execution_count": 19,
   "metadata": {},
   "outputs": [
    {
     "data": {
      "text/plain": [
       "(-15, 10)"
      ]
     },
     "execution_count": 19,
     "metadata": {},
     "output_type": "execute_result"
    },
    {
     "data": {
      "image/png": "[encoded data removed]",
      "text/plain": [
       "<Figure size 432x288 with 1 Axes>"
      ]
     },
     "metadata": {},
     "output_type": "display_data"
    }
   ],
   "source": [
    "\n",
    "plt.scatter(newresults[:,0],newresults[:,1],c=labels)\n",
    "plt.xlim(-10,100)\n",
    "plt.ylim(-15,10)"
   ]
  },
  {
   "cell_type": "code",
   "execution_count": 20,
   "metadata": {},
   "outputs": [
    {
     "data": {
      "text/plain": [
       "(-15, 10)"
      ]
     },
     "execution_count": 20,
     "metadata": {},
     "output_type": "execute_result"
    },
    {
     "data": {
      "image/png": "[encoded data removed]",
      "text/plain": [
       "<Figure size 432x288 with 1 Axes>"
      ]
     },
     "metadata": {},
     "output_type": "display_data"
    }
   ],
   "source": [
    "plt.scatter(results[:,0],results[:,1],c=cl.labels_)\n",
    "plt.xlim(-10,100)\n",
    "plt.ylim(-15,10)"
   ]
  },
  {
   "cell_type": "code",
   "execution_count": 21,
   "metadata": {},
   "outputs": [],
   "source": [
    "#recluster after changes\n",
    "newcl = KMeans(12).fit(newresults)"
   ]
  },
  {
   "cell_type": "code",
   "execution_count": 22,
   "metadata": {},
   "outputs": [],
   "source": [
    "# %matplotlib widget\n",
    "from mpl_toolkits.mplot3d import Axes3D"
   ]
  },
  {
   "cell_type": "code",
   "execution_count": 23,
   "metadata": {},
   "outputs": [],
   "source": [
    "# fig = plt.figure()\n",
    "# ax = fig.add_subplot(111, projection='3d')\n",
    "# ax.scatter(results[:,0],results[:,1],results[:,2],c=cl.labels_)"
   ]
  },
  {
   "cell_type": "code",
   "execution_count": 24,
   "metadata": {},
   "outputs": [],
   "source": [
    "\n",
    "# plt.scatter(newresults[:,0],newresults[:,1],c=newcl.labels_)\n",
    "# plt.xlim(-10,100)\n",
    "# plt.ylim(-15,10)\n",
    "\n",
    "# fig = plt.figure()\n",
    "# ax = fig.add_subplot(111, projection='3d')\n",
    "# ax.scatter(newresults[:,0],newresults[:,1],newresults[:,2],c=newcl.labels_)"
   ]
  },
  {
   "cell_type": "code",
   "execution_count": 25,
   "metadata": {},
   "outputs": [
    {
     "data": {
      "image/png": "[encoded data removed]",
      "text/plain": [
       "<Figure size 432x288 with 1 Axes>"
      ]
     },
     "metadata": {},
     "output_type": "display_data"
    }
   ],
   "source": [
    "fig = plt.figure()\n",
    "ax = fig.add_subplot(111, projection='3d')\n",
    "ax.scatter(newresults[:,0],newresults[:,1],newresults[:,2],c=newcl.labels_)\n",
    "\n",
    "for ii in range(10,360,10):\n",
    "    ax.view_init(elev=10, azim=ii)\n",
    "    fig.savefig(\"movie/movie{}.png\".format(ii))"
   ]
  },
  {
   "cell_type": "code",
   "execution_count": 26,
   "metadata": {},
   "outputs": [
    {
     "data": {
      "text/html": [
       "<div>\n",
       "<style scoped>\n",
       "    .dataframe tbody tr th:only-of-type {\n",
       "        vertical-align: middle;\n",
       "    }\n",
       "\n",
       "    .dataframe tbody tr th {\n",
       "        vertical-align: top;\n",
       "    }\n",
       "\n",
       "    .dataframe thead th {\n",
       "        text-align: right;\n",
       "    }\n",
       "</style>\n",
       "<table border=\"1\" class=\"dataframe\">\n",
       "  <thead>\n",
       "    <tr style=\"text-align: right;\">\n",
       "      <th></th>\n",
       "      <th>outgoing_txns</th>\n",
       "      <th>incoming_txns</th>\n",
       "      <th>total_eth_sent</th>\n",
       "      <th>avg_eth_sent</th>\n",
       "      <th>total_usd_sent</th>\n",
       "      <th>avg_usd_sent</th>\n",
       "      <th>total_eth_recd</th>\n",
       "      <th>avg_eth_recd</th>\n",
       "      <th>total_usd_recd</th>\n",
       "      <th>avg_usd_recd</th>\n",
       "      <th>...</th>\n",
       "      <th>monthly_eth_sent</th>\n",
       "      <th>monthly_usd_sent</th>\n",
       "      <th>monthly_eth_recd</th>\n",
       "      <th>monthly_usd_recd</th>\n",
       "      <th>contracts_created</th>\n",
       "      <th>contract_txns_sent</th>\n",
       "      <th>incoming_avg_time_btwn_txns</th>\n",
       "      <th>incoming_std_time_btwn_txns</th>\n",
       "      <th>outgoing_avg_time_btwn_txns</th>\n",
       "      <th>outgoing_std_time_btwn_txns</th>\n",
       "    </tr>\n",
       "  </thead>\n",
       "  <tbody>\n",
       "    <tr>\n",
       "      <th>0</th>\n",
       "      <td>33.230047</td>\n",
       "      <td>50.173709</td>\n",
       "      <td>36.630699</td>\n",
       "      <td>1.130569</td>\n",
       "      <td>2.291844e+04</td>\n",
       "      <td>695.227571</td>\n",
       "      <td>41.475594</td>\n",
       "      <td>0.931848</td>\n",
       "      <td>2.570062e+04</td>\n",
       "      <td>573.747022</td>\n",
       "      <td>...</td>\n",
       "      <td>3.244815</td>\n",
       "      <td>1994.691881</td>\n",
       "      <td>3.654803</td>\n",
       "      <td>2227.377691</td>\n",
       "      <td>4.694836e-03</td>\n",
       "      <td>1.737089e-01</td>\n",
       "      <td>4.733325e+05</td>\n",
       "      <td>4.141203e+05</td>\n",
       "      <td>600338.106496</td>\n",
       "      <td>5.967560e+05</td>\n",
       "    </tr>\n",
       "    <tr>\n",
       "      <th>1</th>\n",
       "      <td>8.337607</td>\n",
       "      <td>9.581197</td>\n",
       "      <td>28.619692</td>\n",
       "      <td>3.559633</td>\n",
       "      <td>7.437815e+03</td>\n",
       "      <td>887.020055</td>\n",
       "      <td>29.348678</td>\n",
       "      <td>3.230192</td>\n",
       "      <td>7.651283e+03</td>\n",
       "      <td>827.056254</td>\n",
       "      <td>...</td>\n",
       "      <td>7.436402</td>\n",
       "      <td>1854.044776</td>\n",
       "      <td>7.625000</td>\n",
       "      <td>1909.233266</td>\n",
       "      <td>2.983724e-16</td>\n",
       "      <td>-9.237056e-14</td>\n",
       "      <td>7.486564e+05</td>\n",
       "      <td>9.343795e+05</td>\n",
       "      <td>826848.882947</td>\n",
       "      <td>9.966621e+05</td>\n",
       "    </tr>\n",
       "    <tr>\n",
       "      <th>2</th>\n",
       "      <td>8.930649</td>\n",
       "      <td>10.035794</td>\n",
       "      <td>21.334057</td>\n",
       "      <td>2.619549</td>\n",
       "      <td>5.528629e+03</td>\n",
       "      <td>624.785442</td>\n",
       "      <td>22.637104</td>\n",
       "      <td>2.444691</td>\n",
       "      <td>5.912858e+03</td>\n",
       "      <td>595.132185</td>\n",
       "      <td>...</td>\n",
       "      <td>7.820134</td>\n",
       "      <td>1863.865518</td>\n",
       "      <td>8.285280</td>\n",
       "      <td>1985.038357</td>\n",
       "      <td>-2.775558e-17</td>\n",
       "      <td>-2.788880e-13</td>\n",
       "      <td>3.096044e+05</td>\n",
       "      <td>2.722096e+05</td>\n",
       "      <td>327369.276158</td>\n",
       "      <td>2.908133e+05</td>\n",
       "    </tr>\n",
       "    <tr>\n",
       "      <th>3</th>\n",
       "      <td>20.600000</td>\n",
       "      <td>40.000000</td>\n",
       "      <td>3468.622976</td>\n",
       "      <td>189.856644</td>\n",
       "      <td>1.872248e+06</td>\n",
       "      <td>94009.663236</td>\n",
       "      <td>3505.306854</td>\n",
       "      <td>169.688260</td>\n",
       "      <td>1.996683e+06</td>\n",
       "      <td>90724.218157</td>\n",
       "      <td>...</td>\n",
       "      <td>423.132533</td>\n",
       "      <td>212626.377176</td>\n",
       "      <td>428.276052</td>\n",
       "      <td>230174.127893</td>\n",
       "      <td>2.178813e-15</td>\n",
       "      <td>1.945111e-12</td>\n",
       "      <td>4.524004e+05</td>\n",
       "      <td>7.695281e+05</td>\n",
       "      <td>649295.873959</td>\n",
       "      <td>1.291395e+06</td>\n",
       "    </tr>\n",
       "    <tr>\n",
       "      <th>4</th>\n",
       "      <td>5.851324</td>\n",
       "      <td>6.678208</td>\n",
       "      <td>16.486584</td>\n",
       "      <td>2.657126</td>\n",
       "      <td>4.298199e+03</td>\n",
       "      <td>647.721505</td>\n",
       "      <td>17.519937</td>\n",
       "      <td>2.461893</td>\n",
       "      <td>4.581059e+03</td>\n",
       "      <td>610.635450</td>\n",
       "      <td>...</td>\n",
       "      <td>5.546719</td>\n",
       "      <td>1355.276506</td>\n",
       "      <td>5.924699</td>\n",
       "      <td>1450.531033</td>\n",
       "      <td>-1.457168e-16</td>\n",
       "      <td>7.460699e-14</td>\n",
       "      <td>2.204269e+05</td>\n",
       "      <td>2.322084e+05</td>\n",
       "      <td>237063.131908</td>\n",
       "      <td>2.419514e+05</td>\n",
       "    </tr>\n",
       "    <tr>\n",
       "      <th>5</th>\n",
       "      <td>36.000000</td>\n",
       "      <td>27.500000</td>\n",
       "      <td>16105.795068</td>\n",
       "      <td>519.224378</td>\n",
       "      <td>9.191782e+06</td>\n",
       "      <td>273033.323611</td>\n",
       "      <td>16106.453608</td>\n",
       "      <td>595.661644</td>\n",
       "      <td>9.599380e+06</td>\n",
       "      <td>346090.293858</td>\n",
       "      <td>...</td>\n",
       "      <td>1190.299172</td>\n",
       "      <td>656024.237582</td>\n",
       "      <td>1190.340405</td>\n",
       "      <td>681557.992395</td>\n",
       "      <td>1.321859e-14</td>\n",
       "      <td>6.952661e-12</td>\n",
       "      <td>6.877505e+05</td>\n",
       "      <td>1.606647e+06</td>\n",
       "      <td>823574.976411</td>\n",
       "      <td>1.297249e+06</td>\n",
       "    </tr>\n",
       "    <tr>\n",
       "      <th>6</th>\n",
       "      <td>20.500000</td>\n",
       "      <td>12.500000</td>\n",
       "      <td>7.235615</td>\n",
       "      <td>0.330150</td>\n",
       "      <td>3.616870e+03</td>\n",
       "      <td>155.251400</td>\n",
       "      <td>6.327381</td>\n",
       "      <td>0.493140</td>\n",
       "      <td>2.849202e+03</td>\n",
       "      <td>173.360665</td>\n",
       "      <td>...</td>\n",
       "      <td>0.790272</td>\n",
       "      <td>391.921402</td>\n",
       "      <td>0.700639</td>\n",
       "      <td>288.739652</td>\n",
       "      <td>1.366667e+01</td>\n",
       "      <td>6.783333e+01</td>\n",
       "      <td>6.514272e+05</td>\n",
       "      <td>9.846115e+05</td>\n",
       "      <td>273518.053458</td>\n",
       "      <td>5.431185e+05</td>\n",
       "    </tr>\n",
       "    <tr>\n",
       "      <th>7</th>\n",
       "      <td>40.425532</td>\n",
       "      <td>39.510638</td>\n",
       "      <td>121.260374</td>\n",
       "      <td>3.035966</td>\n",
       "      <td>6.736907e+04</td>\n",
       "      <td>1695.761466</td>\n",
       "      <td>131.562174</td>\n",
       "      <td>3.577595</td>\n",
       "      <td>7.234232e+04</td>\n",
       "      <td>1994.337917</td>\n",
       "      <td>...</td>\n",
       "      <td>8.252828</td>\n",
       "      <td>4618.028913</td>\n",
       "      <td>8.908963</td>\n",
       "      <td>4945.458705</td>\n",
       "      <td>4.718448e-16</td>\n",
       "      <td>1.367795e-13</td>\n",
       "      <td>7.335018e+05</td>\n",
       "      <td>1.283824e+06</td>\n",
       "      <td>677083.459684</td>\n",
       "      <td>1.245882e+06</td>\n",
       "    </tr>\n",
       "    <tr>\n",
       "      <th>8</th>\n",
       "      <td>23.666667</td>\n",
       "      <td>41.333333</td>\n",
       "      <td>2242.230802</td>\n",
       "      <td>112.624315</td>\n",
       "      <td>1.124455e+06</td>\n",
       "      <td>49784.818025</td>\n",
       "      <td>2338.126341</td>\n",
       "      <td>98.799991</td>\n",
       "      <td>1.218138e+06</td>\n",
       "      <td>48806.565409</td>\n",
       "      <td>...</td>\n",
       "      <td>253.161562</td>\n",
       "      <td>112877.828879</td>\n",
       "      <td>262.160393</td>\n",
       "      <td>121948.349317</td>\n",
       "      <td>1.526557e-15</td>\n",
       "      <td>1.135092e-12</td>\n",
       "      <td>3.973978e+05</td>\n",
       "      <td>8.205240e+05</td>\n",
       "      <td>540060.545907</td>\n",
       "      <td>8.466240e+05</td>\n",
       "    </tr>\n",
       "    <tr>\n",
       "      <th>9</th>\n",
       "      <td>17.108434</td>\n",
       "      <td>20.915663</td>\n",
       "      <td>40.362506</td>\n",
       "      <td>2.491846</td>\n",
       "      <td>1.785596e+04</td>\n",
       "      <td>1091.410700</td>\n",
       "      <td>42.271147</td>\n",
       "      <td>2.202507</td>\n",
       "      <td>1.894416e+04</td>\n",
       "      <td>986.129761</td>\n",
       "      <td>...</td>\n",
       "      <td>5.340914</td>\n",
       "      <td>2327.229041</td>\n",
       "      <td>5.591128</td>\n",
       "      <td>2469.161650</td>\n",
       "      <td>2.844947e-16</td>\n",
       "      <td>7.815970e-14</td>\n",
       "      <td>7.740580e+05</td>\n",
       "      <td>9.675231e+05</td>\n",
       "      <td>877577.325693</td>\n",
       "      <td>1.091343e+06</td>\n",
       "    </tr>\n",
       "    <tr>\n",
       "      <th>10</th>\n",
       "      <td>30.637427</td>\n",
       "      <td>39.830409</td>\n",
       "      <td>74.832887</td>\n",
       "      <td>2.480360</td>\n",
       "      <td>4.320546e+04</td>\n",
       "      <td>1464.953532</td>\n",
       "      <td>79.251568</td>\n",
       "      <td>2.505037</td>\n",
       "      <td>4.482327e+04</td>\n",
       "      <td>1387.714400</td>\n",
       "      <td>...</td>\n",
       "      <td>5.365844</td>\n",
       "      <td>3188.554962</td>\n",
       "      <td>5.678658</td>\n",
       "      <td>3304.804108</td>\n",
       "      <td>3.816392e-16</td>\n",
       "      <td>-1.776357e-15</td>\n",
       "      <td>5.715426e+05</td>\n",
       "      <td>8.176159e+05</td>\n",
       "      <td>656715.125739</td>\n",
       "      <td>9.901266e+05</td>\n",
       "    </tr>\n",
       "    <tr>\n",
       "      <th>11</th>\n",
       "      <td>19.134328</td>\n",
       "      <td>7.865672</td>\n",
       "      <td>26.339729</td>\n",
       "      <td>1.356354</td>\n",
       "      <td>1.272172e+04</td>\n",
       "      <td>590.633446</td>\n",
       "      <td>25.512071</td>\n",
       "      <td>3.334833</td>\n",
       "      <td>1.298698e+04</td>\n",
       "      <td>1581.715438</td>\n",
       "      <td>...</td>\n",
       "      <td>2.988444</td>\n",
       "      <td>1297.911519</td>\n",
       "      <td>2.873209</td>\n",
       "      <td>1312.833449</td>\n",
       "      <td>1.492537e-02</td>\n",
       "      <td>1.343284e-01</td>\n",
       "      <td>2.381637e+06</td>\n",
       "      <td>3.265005e+06</td>\n",
       "      <td>797070.813310</td>\n",
       "      <td>1.615419e+06</td>\n",
       "    </tr>\n",
       "  </tbody>\n",
       "</table>\n",
       "<p>12 rows × 23 columns</p>\n",
       "</div>"
      ],
      "text/plain": [
       "    outgoing_txns  incoming_txns  total_eth_sent  avg_eth_sent  \\\n",
       "0       33.230047      50.173709       36.630699      1.130569   \n",
       "1        8.337607       9.581197       28.619692      3.559633   \n",
       "2        8.930649      10.035794       21.334057      2.619549   \n",
       "3       20.600000      40.000000     3468.622976    189.856644   \n",
       "4        5.851324       6.678208       16.486584      2.657126   \n",
       "5       36.000000      27.500000    16105.795068    519.224378   \n",
       "6       20.500000      12.500000        7.235615      0.330150   \n",
       "7       40.425532      39.510638      121.260374      3.035966   \n",
       "8       23.666667      41.333333     2242.230802    112.624315   \n",
       "9       17.108434      20.915663       40.362506      2.491846   \n",
       "10      30.637427      39.830409       74.832887      2.480360   \n",
       "11      19.134328       7.865672       26.339729      1.356354   \n",
       "\n",
       "    total_usd_sent   avg_usd_sent  total_eth_recd  avg_eth_recd  \\\n",
       "0     2.291844e+04     695.227571       41.475594      0.931848   \n",
       "1     7.437815e+03     887.020055       29.348678      3.230192   \n",
       "2     5.528629e+03     624.785442       22.637104      2.444691   \n",
       "3     1.872248e+06   94009.663236     3505.306854    169.688260   \n",
       "4     4.298199e+03     647.721505       17.519937      2.461893   \n",
       "5     9.191782e+06  273033.323611    16106.453608    595.661644   \n",
       "6     3.616870e+03     155.251400        6.327381      0.493140   \n",
       "7     6.736907e+04    1695.761466      131.562174      3.577595   \n",
       "8     1.124455e+06   49784.818025     2338.126341     98.799991   \n",
       "9     1.785596e+04    1091.410700       42.271147      2.202507   \n",
       "10    4.320546e+04    1464.953532       79.251568      2.505037   \n",
       "11    1.272172e+04     590.633446       25.512071      3.334833   \n",
       "\n",
       "    total_usd_recd   avg_usd_recd             ...               \\\n",
       "0     2.570062e+04     573.747022             ...                \n",
       "1     7.651283e+03     827.056254             ...                \n",
       "2     5.912858e+03     595.132185             ...                \n",
       "3     1.996683e+06   90724.218157             ...                \n",
       "4     4.581059e+03     610.635450             ...                \n",
       "5     9.599380e+06  346090.293858             ...                \n",
       "6     2.849202e+03     173.360665             ...                \n",
       "7     7.234232e+04    1994.337917             ...                \n",
       "8     1.218138e+06   48806.565409             ...                \n",
       "9     1.894416e+04     986.129761             ...                \n",
       "10    4.482327e+04    1387.714400             ...                \n",
       "11    1.298698e+04    1581.715438             ...                \n",
       "\n",
       "    monthly_eth_sent  monthly_usd_sent  monthly_eth_recd  monthly_usd_recd  \\\n",
       "0           3.244815       1994.691881          3.654803       2227.377691   \n",
       "1           7.436402       1854.044776          7.625000       1909.233266   \n",
       "2           7.820134       1863.865518          8.285280       1985.038357   \n",
       "3         423.132533     212626.377176        428.276052     230174.127893   \n",
       "4           5.546719       1355.276506          5.924699       1450.531033   \n",
       "5        1190.299172     656024.237582       1190.340405     681557.992395   \n",
       "6           0.790272        391.921402          0.700639        288.739652   \n",
       "7           8.252828       4618.028913          8.908963       4945.458705   \n",
       "8         253.161562     112877.828879        262.160393     121948.349317   \n",
       "9           5.340914       2327.229041          5.591128       2469.161650   \n",
       "10          5.365844       3188.554962          5.678658       3304.804108   \n",
       "11          2.988444       1297.911519          2.873209       1312.833449   \n",
       "\n",
       "    contracts_created  contract_txns_sent  incoming_avg_time_btwn_txns  \\\n",
       "0        4.694836e-03        1.737089e-01                 4.733325e+05   \n",
       "1        2.983724e-16       -9.237056e-14                 7.486564e+05   \n",
       "2       -2.775558e-17       -2.788880e-13                 3.096044e+05   \n",
       "3        2.178813e-15        1.945111e-12                 4.524004e+05   \n",
       "4       -1.457168e-16        7.460699e-14                 2.204269e+05   \n",
       "5        1.321859e-14        6.952661e-12                 6.877505e+05   \n",
       "6        1.366667e+01        6.783333e+01                 6.514272e+05   \n",
       "7        4.718448e-16        1.367795e-13                 7.335018e+05   \n",
       "8        1.526557e-15        1.135092e-12                 3.973978e+05   \n",
       "9        2.844947e-16        7.815970e-14                 7.740580e+05   \n",
       "10       3.816392e-16       -1.776357e-15                 5.715426e+05   \n",
       "11       1.492537e-02        1.343284e-01                 2.381637e+06   \n",
       "\n",
       "    incoming_std_time_btwn_txns  outgoing_avg_time_btwn_txns  \\\n",
       "0                  4.141203e+05                600338.106496   \n",
       "1                  9.343795e+05                826848.882947   \n",
       "2                  2.722096e+05                327369.276158   \n",
       "3                  7.695281e+05                649295.873959   \n",
       "4                  2.322084e+05                237063.131908   \n",
       "5                  1.606647e+06                823574.976411   \n",
       "6                  9.846115e+05                273518.053458   \n",
       "7                  1.283824e+06                677083.459684   \n",
       "8                  8.205240e+05                540060.545907   \n",
       "9                  9.675231e+05                877577.325693   \n",
       "10                 8.176159e+05                656715.125739   \n",
       "11                 3.265005e+06                797070.813310   \n",
       "\n",
       "    outgoing_std_time_btwn_txns  \n",
       "0                  5.967560e+05  \n",
       "1                  9.966621e+05  \n",
       "2                  2.908133e+05  \n",
       "3                  1.291395e+06  \n",
       "4                  2.419514e+05  \n",
       "5                  1.297249e+06  \n",
       "6                  5.431185e+05  \n",
       "7                  1.245882e+06  \n",
       "8                  8.466240e+05  \n",
       "9                  1.091343e+06  \n",
       "10                 9.901266e+05  \n",
       "11                 1.615419e+06  \n",
       "\n",
       "[12 rows x 23 columns]"
      ]
     },
     "execution_count": 26,
     "metadata": {},
     "output_type": "execute_result"
    }
   ],
   "source": [
    "c = newcl.cluster_centers_\n",
    "#transform back to real numbers\n",
    "medoids = scale.inverse_transform(pca.inverse_transform(c))\n",
    "pd.DataFrame(medoids, columns = data.columns)"
   ]
  },
  {
   "cell_type": "code",
   "execution_count": null,
   "metadata": {},
   "outputs": [],
   "source": []
  }
 ],
 "metadata": {
  "kernelspec": {
   "display_name": "Python 3",
   "language": "python",
   "name": "python3"
  },
  "language_info": {
   "codemirror_mode": {
    "name": "ipython",
    "version": 3
   },
   "file_extension": ".py",
   "mimetype": "text/x-python",
   "name": "python",
   "nbconvert_exporter": "python",
   "pygments_lexer": "ipython3",
   "version": "3.6.5"
  }
 },
 "nbformat": 4,
 "nbformat_minor": 2
}
