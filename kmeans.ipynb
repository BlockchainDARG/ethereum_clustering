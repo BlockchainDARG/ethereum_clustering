{
 "cells": [
  {
   "cell_type": "markdown",
   "metadata": {},
   "source": [
    "K-Means"
   ]
  },
  {
   "cell_type": "code",
   "execution_count": 1,
   "metadata": {},
   "outputs": [],
   "source": [
    "%load_ext google.cloud.bigquery\n",
    "%matplotlib inline\n",
    "from google.cloud import bigquery\n",
    "client = bigquery.Client()\n",
    "import matplotlib.pyplot as plt\n",
    "import numpy as np\n",
    "import pandas as pd\n",
    "from sklearn import cluster\n",
    "from sklearn.metrics import silhouette_score, silhouette_samples\n",
    "from sklearn.preprocessing import StandardScaler\n",
    "from sklearn.decomposition import PCA\n",
    "from sklearn.pipeline import Pipeline\n",
    "import random\n",
    "from sklearn.cluster import KMeans\n",
    "import matplotlib.cm as cm"
   ]
  },
  {
   "cell_type": "code",
   "execution_count": 2,
   "metadata": {},
   "outputs": [],
   "source": [
    "sql = '''\n",
    "SELECT *  FROM `eth-tokens.alldata.clean_avg`\n",
    "'''\n",
    "\n",
    "df = client.query(sql).to_dataframe()"
   ]
  },
  {
   "cell_type": "code",
   "execution_count": 3,
   "metadata": {},
   "outputs": [],
   "source": [
    "#remove address (string) from analysis\n",
    "data = df.iloc[:,1:]"
   ]
  },
  {
   "cell_type": "code",
   "execution_count": 4,
   "metadata": {},
   "outputs": [],
   "source": [
    "#number of PCA features is full reconstruction, for now\n",
    "num_features = data.shape[1]\n",
    "num_clusters = 4"
   ]
  },
  {
   "cell_type": "code",
   "execution_count": 5,
   "metadata": {},
   "outputs": [
    {
     "data": {
      "text/plain": [
       "KMeans(algorithm='auto', copy_x=True, init='k-means++', max_iter=300,\n",
       "    n_clusters=4, n_init=10, n_jobs=1, precompute_distances='auto',\n",
       "    random_state=None, tol=0.0001, verbose=0)"
      ]
     },
     "execution_count": 5,
     "metadata": {},
     "output_type": "execute_result"
    }
   ],
   "source": [
    "scale = StandardScaler()\n",
    "pca =PCA(n_components=num_features)\n",
    "cl = KMeans(num_clusters)\n",
    "#build pipeline\n",
    "pipe = Pipeline([('scale', scale ),\n",
    "                 ('PCA', pca)])\n",
    "\n",
    "results = pipe.fit_transform(data)\n",
    "\n",
    "cl.fit(results)\n",
    "\n"
   ]
  },
  {
   "cell_type": "code",
   "execution_count": 6,
   "metadata": {},
   "outputs": [
    {
     "data": {
      "text/html": [
       "<div>\n",
       "<style scoped>\n",
       "    .dataframe tbody tr th:only-of-type {\n",
       "        vertical-align: middle;\n",
       "    }\n",
       "\n",
       "    .dataframe tbody tr th {\n",
       "        vertical-align: top;\n",
       "    }\n",
       "\n",
       "    .dataframe thead th {\n",
       "        text-align: right;\n",
       "    }\n",
       "</style>\n",
       "<table border=\"1\" class=\"dataframe\">\n",
       "  <thead>\n",
       "    <tr style=\"text-align: right;\">\n",
       "      <th></th>\n",
       "      <th>outgoing_txns</th>\n",
       "      <th>incoming_txns</th>\n",
       "      <th>total_eth_sent</th>\n",
       "      <th>avg_eth_sent</th>\n",
       "      <th>total_usd_sent</th>\n",
       "      <th>avg_usd_sent</th>\n",
       "      <th>total_eth_recd</th>\n",
       "      <th>avg_eth_recd</th>\n",
       "      <th>total_usd_recd</th>\n",
       "      <th>avg_usd_recd</th>\n",
       "      <th>...</th>\n",
       "      <th>monthly_eth_sent</th>\n",
       "      <th>monthly_usd_sent</th>\n",
       "      <th>monthly_eth_recd</th>\n",
       "      <th>monthly_usd_recd</th>\n",
       "      <th>contracts_created</th>\n",
       "      <th>contract_txns_sent</th>\n",
       "      <th>incoming_avg_time_btwn_txns</th>\n",
       "      <th>incoming_std_time_btwn_txns</th>\n",
       "      <th>outgoing_avg_time_btwn_txns</th>\n",
       "      <th>outgoing_std_time_btwn_txns</th>\n",
       "    </tr>\n",
       "  </thead>\n",
       "  <tbody>\n",
       "    <tr>\n",
       "      <th>0</th>\n",
       "      <td>25.251578</td>\n",
       "      <td>31.276976</td>\n",
       "      <td>3.156644e+02</td>\n",
       "      <td>29.908607</td>\n",
       "      <td>9.814805e+04</td>\n",
       "      <td>9371.436362</td>\n",
       "      <td>3.448275e+02</td>\n",
       "      <td>22.401415</td>\n",
       "      <td>9.934267e+04</td>\n",
       "      <td>7.276764e+03</td>\n",
       "      <td>...</td>\n",
       "      <td>21.583755</td>\n",
       "      <td>8.116438e+03</td>\n",
       "      <td>22.928266</td>\n",
       "      <td>8.360196e+03</td>\n",
       "      <td>2.884118e-01</td>\n",
       "      <td>9.780027e+00</td>\n",
       "      <td>8.851749e+05</td>\n",
       "      <td>1.063175e+06</td>\n",
       "      <td>1.136438e+06</td>\n",
       "      <td>1.273808e+06</td>\n",
       "    </tr>\n",
       "    <tr>\n",
       "      <th>1</th>\n",
       "      <td>424451.250000</td>\n",
       "      <td>169674.750000</td>\n",
       "      <td>3.620324e+06</td>\n",
       "      <td>600.098395</td>\n",
       "      <td>2.036619e+09</td>\n",
       "      <td>286965.089248</td>\n",
       "      <td>3.603474e+06</td>\n",
       "      <td>2722.819777</td>\n",
       "      <td>2.035262e+09</td>\n",
       "      <td>1.567950e+06</td>\n",
       "      <td>...</td>\n",
       "      <td>347422.644487</td>\n",
       "      <td>1.896901e+08</td>\n",
       "      <td>345814.263658</td>\n",
       "      <td>1.894076e+08</td>\n",
       "      <td>1.344869e-12</td>\n",
       "      <td>-1.798206e-11</td>\n",
       "      <td>1.257230e+04</td>\n",
       "      <td>1.992105e+04</td>\n",
       "      <td>3.365941e+03</td>\n",
       "      <td>9.047254e+03</td>\n",
       "    </tr>\n",
       "    <tr>\n",
       "      <th>2</th>\n",
       "      <td>14219.000000</td>\n",
       "      <td>20552.000000</td>\n",
       "      <td>1.957986e+07</td>\n",
       "      <td>1377.021048</td>\n",
       "      <td>1.120867e+09</td>\n",
       "      <td>78828.811477</td>\n",
       "      <td>1.959438e+07</td>\n",
       "      <td>953.405074</td>\n",
       "      <td>1.120732e+09</td>\n",
       "      <td>5.453152e+04</td>\n",
       "      <td>...</td>\n",
       "      <td>753071.626030</td>\n",
       "      <td>4.311026e+07</td>\n",
       "      <td>753630.041711</td>\n",
       "      <td>4.310507e+07</td>\n",
       "      <td>2.089828e-12</td>\n",
       "      <td>1.380940e-11</td>\n",
       "      <td>2.537501e+03</td>\n",
       "      <td>1.213661e+04</td>\n",
       "      <td>3.669439e+03</td>\n",
       "      <td>1.544081e+04</td>\n",
       "    </tr>\n",
       "    <tr>\n",
       "      <th>3</th>\n",
       "      <td>5.924604</td>\n",
       "      <td>8.617125</td>\n",
       "      <td>1.715125e+02</td>\n",
       "      <td>21.456315</td>\n",
       "      <td>2.768592e+04</td>\n",
       "      <td>4151.156675</td>\n",
       "      <td>1.723444e+02</td>\n",
       "      <td>20.760805</td>\n",
       "      <td>1.990805e+04</td>\n",
       "      <td>3.014809e+03</td>\n",
       "      <td>...</td>\n",
       "      <td>6.859491</td>\n",
       "      <td>1.542208e+03</td>\n",
       "      <td>7.083390</td>\n",
       "      <td>1.299918e+03</td>\n",
       "      <td>1.024129e-01</td>\n",
       "      <td>2.811601e+00</td>\n",
       "      <td>5.067974e+06</td>\n",
       "      <td>5.939139e+06</td>\n",
       "      <td>5.662692e+06</td>\n",
       "      <td>6.711128e+06</td>\n",
       "    </tr>\n",
       "  </tbody>\n",
       "</table>\n",
       "<p>4 rows × 23 columns</p>\n",
       "</div>"
      ],
      "text/plain": [
       "   outgoing_txns  incoming_txns  total_eth_sent  avg_eth_sent  total_usd_sent  \\\n",
       "0      25.251578      31.276976    3.156644e+02     29.908607    9.814805e+04   \n",
       "1  424451.250000  169674.750000    3.620324e+06    600.098395    2.036619e+09   \n",
       "2   14219.000000   20552.000000    1.957986e+07   1377.021048    1.120867e+09   \n",
       "3       5.924604       8.617125    1.715125e+02     21.456315    2.768592e+04   \n",
       "\n",
       "    avg_usd_sent  total_eth_recd  avg_eth_recd  total_usd_recd  avg_usd_recd  \\\n",
       "0    9371.436362    3.448275e+02     22.401415    9.934267e+04  7.276764e+03   \n",
       "1  286965.089248    3.603474e+06   2722.819777    2.035262e+09  1.567950e+06   \n",
       "2   78828.811477    1.959438e+07    953.405074    1.120732e+09  5.453152e+04   \n",
       "3    4151.156675    1.723444e+02     20.760805    1.990805e+04  3.014809e+03   \n",
       "\n",
       "              ...               monthly_eth_sent  monthly_usd_sent  \\\n",
       "0             ...                      21.583755      8.116438e+03   \n",
       "1             ...                  347422.644487      1.896901e+08   \n",
       "2             ...                  753071.626030      4.311026e+07   \n",
       "3             ...                       6.859491      1.542208e+03   \n",
       "\n",
       "   monthly_eth_recd  monthly_usd_recd  contracts_created  contract_txns_sent  \\\n",
       "0         22.928266      8.360196e+03       2.884118e-01        9.780027e+00   \n",
       "1     345814.263658      1.894076e+08       1.344869e-12       -1.798206e-11   \n",
       "2     753630.041711      4.310507e+07       2.089828e-12        1.380940e-11   \n",
       "3          7.083390      1.299918e+03       1.024129e-01        2.811601e+00   \n",
       "\n",
       "   incoming_avg_time_btwn_txns  incoming_std_time_btwn_txns  \\\n",
       "0                 8.851749e+05                 1.063175e+06   \n",
       "1                 1.257230e+04                 1.992105e+04   \n",
       "2                 2.537501e+03                 1.213661e+04   \n",
       "3                 5.067974e+06                 5.939139e+06   \n",
       "\n",
       "   outgoing_avg_time_btwn_txns  outgoing_std_time_btwn_txns  \n",
       "0                 1.136438e+06                 1.273808e+06  \n",
       "1                 3.365941e+03                 9.047254e+03  \n",
       "2                 3.669439e+03                 1.544081e+04  \n",
       "3                 5.662692e+06                 6.711128e+06  \n",
       "\n",
       "[4 rows x 23 columns]"
      ]
     },
     "execution_count": 6,
     "metadata": {},
     "output_type": "execute_result"
    }
   ],
   "source": [
    "#get centroids\n",
    "c = cl.cluster_centers_\n",
    "#transform back to real numbers\n",
    "medoids = scale.inverse_transform(pca.inverse_transform(c))\n",
    "pd.DataFrame(medoids, columns = data.columns)"
   ]
  },
  {
   "cell_type": "code",
   "execution_count": 7,
   "metadata": {},
   "outputs": [
    {
     "data": {
      "image/png": "[encoded data removed]",
      "text/plain": [
       "<Figure size 432x288 with 1 Axes>"
      ]
     },
     "metadata": {},
     "output_type": "display_data"
    }
   ],
   "source": [
    "#percent of variance explained by each component\n",
    "\n",
    "plt.plot(np.arange(pca.n_components_) ,np.cumsum(pca.explained_variance_ratio_)*100)\n",
    "plt.grid(b=True)\n",
    "plt.xlabel('principal component')\n",
    "plt.title('Cumulative Percent of Variance explained')\n",
    "plt.show()"
   ]
  },
  {
   "cell_type": "code",
   "execution_count": 8,
   "metadata": {},
   "outputs": [
    {
     "data": {
      "text/plain": [
       "<matplotlib.collections.PathCollection at 0x7fc2e7913828>"
      ]
     },
     "execution_count": 8,
     "metadata": {},
     "output_type": "execute_result"
    },
    {
     "data": {
      "image/png": "[encoded data removed]",
      "text/plain": [
       "<Figure size 432x288 with 1 Axes>"
      ]
     },
     "metadata": {},
     "output_type": "display_data"
    }
   ],
   "source": [
    "plt.scatter(results[:,0],results[:,1],c=cl.labels_, s=5)"
   ]
  },
  {
   "cell_type": "code",
   "execution_count": 9,
   "metadata": {},
   "outputs": [
    {
     "data": {
      "text/plain": [
       "<matplotlib.collections.PathCollection at 0x7fc2e677f6d8>"
      ]
     },
     "execution_count": 9,
     "metadata": {},
     "output_type": "execute_result"
    },
    {
     "data": {
      "image/png": "[encoded data removed]",
      "text/plain": [
       "<Figure size 432x288 with 1 Axes>"
      ]
     },
     "metadata": {},
     "output_type": "display_data"
    }
   ],
   "source": [
    "#plot in cluster distance space\n",
    "r = cl.transform(results)\n",
    "plt.scatter(r[:,3],r[:,2],c=cl.labels_, s=5)"
   ]
  },
  {
   "cell_type": "code",
   "execution_count": 10,
   "metadata": {},
   "outputs": [],
   "source": [
    "#elbow method\n"
   ]
  },
  {
   "cell_type": "code",
   "execution_count": 11,
   "metadata": {},
   "outputs": [],
   "source": [
    "#scoring metric?\n",
    "from sklearn.metrics import calinski_harabaz_score as ch_score\n",
    "clusters = [2, 3,4,5,6,7,8,9,10,12,15,20,25, 40]\n",
    "scores = []\n",
    "inertias = []\n",
    "for c in clusters:\n",
    "    cl_n = KMeans(c).fit(results)\n",
    "    score = ch_score(results, cl_n.labels_)\n",
    "    scores.append(score)\n",
    "    inertias.append(cl_n.inertia_)\n"
   ]
  },
  {
   "cell_type": "code",
   "execution_count": 12,
   "metadata": {},
   "outputs": [
    {
     "data": {
      "text/plain": [
       "Text(0.5,1,'Calinski Harabaz Scores')"
      ]
     },
     "execution_count": 12,
     "metadata": {},
     "output_type": "execute_result"
    },
    {
     "data": {
      "image/png": "[encoded data removed]",
      "text/plain": [
       "<Figure size 432x288 with 1 Axes>"
      ]
     },
     "metadata": {},
     "output_type": "display_data"
    }
   ],
   "source": [
    "plt.plot(clusters, scores)\n",
    "plt.title('Calinski Harabaz Scores')"
   ]
  },
  {
   "cell_type": "code",
   "execution_count": 13,
   "metadata": {},
   "outputs": [
    {
     "data": {
      "text/plain": [
       "Text(0,0.5,'within cluster sum of squares')"
      ]
     },
     "execution_count": 13,
     "metadata": {},
     "output_type": "execute_result"
    },
    {
     "data": {
      "image/png": "[encoded data removed]",
      "text/plain": [
       "<Figure size 432x288 with 1 Axes>"
      ]
     },
     "metadata": {},
     "output_type": "display_data"
    }
   ],
   "source": [
    "plt.plot(clusters,inertias)\n",
    "plt.title('Elbow plot')\n",
    "plt.ylabel('within cluster sum of squares')"
   ]
  },
  {
   "cell_type": "code",
   "execution_count": 14,
   "metadata": {},
   "outputs": [
    {
     "data": {
      "text/plain": [
       "KMeans(algorithm='auto', copy_x=True, init='k-means++', max_iter=300,\n",
       "    n_clusters=12, n_init=10, n_jobs=1, precompute_distances='auto',\n",
       "    random_state=None, tol=0.0001, verbose=0)"
      ]
     },
     "execution_count": 14,
     "metadata": {},
     "output_type": "execute_result"
    }
   ],
   "source": [
    "#optmal number of clusters is around 12\n",
    "cl = KMeans(12)\n",
    "cl.fit(results)"
   ]
  },
  {
   "cell_type": "code",
   "execution_count": 15,
   "metadata": {},
   "outputs": [],
   "source": [
    "#outlier removal\n",
    "\n",
    "\n",
    "\n",
    "def remove_outliers(results, cl, threshold):\n",
    "    '''\n",
    "    returns subset of results, and associated labels as a tuple\n",
    "    takes results and a fit KMeans cluster object'''\n",
    "    \n",
    "    new_labels = []\n",
    "    new_results = []\n",
    "    \n",
    "    \n",
    "    #code for deciding what clusters to keep\n",
    "    for i, center in enumerate(cl.cluster_centers_):\n",
    "        within_cluster_results = results[cl.labels_==i]\n",
    "        centroid = cl.cluster_centers_[i]\n",
    "        #calc std vectors\n",
    "        stdev = np.std(within_cluster_results, axis=0)\n",
    "       \n",
    "        keep = np.linalg.norm((centroid - within_cluster_results), axis=1) < threshold*np.linalg.norm(stdev)\n",
    "        new_results.append(within_cluster_results[keep])\n",
    "        #add labels?\n",
    "        new_labels.extend([i for j in range(len(within_cluster_results[keep]))])\n",
    "    return np.vstack(new_results), np.array(new_labels)\n"
   ]
  },
  {
   "cell_type": "code",
   "execution_count": null,
   "metadata": {},
   "outputs": [],
   "source": []
  },
  {
   "cell_type": "code",
   "execution_count": 16,
   "metadata": {},
   "outputs": [],
   "source": [
    "thresholds = np.linspace(.3,3, 20)\n",
    "\n",
    "test = [remove_outliers(results, cl,t) for t in thresholds]\n",
    "\n",
    "scores= []\n",
    "for (res, labels) in test:\n",
    "    \n",
    "    score = ch_score(res, labels)\n",
    "    scores.append(score)"
   ]
  },
  {
   "cell_type": "code",
   "execution_count": null,
   "metadata": {},
   "outputs": [],
   "source": []
  },
  {
   "cell_type": "code",
   "execution_count": 17,
   "metadata": {},
   "outputs": [
    {
     "data": {
      "text/plain": [
       "Text(0.5,1,'Calinski Harabaz Scores as std threshold changes')"
      ]
     },
     "execution_count": 17,
     "metadata": {},
     "output_type": "execute_result"
    },
    {
     "data": {
      "image/png": "[encoded data removed]",
      "text/plain": [
       "<Figure size 432x288 with 1 Axes>"
      ]
     },
     "metadata": {},
     "output_type": "display_data"
    }
   ],
   "source": [
    "plt.plot(thresholds, scores)\n",
    "plt.title('Calinski Harabaz Scores as std threshold changes')"
   ]
  },
  {
   "cell_type": "code",
   "execution_count": 18,
   "metadata": {},
   "outputs": [],
   "source": [
    "#empirical best threshold .75 stdev\n",
    "newresults, labels = remove_outliers(results, cl,.75)"
   ]
  },
  {
   "cell_type": "code",
   "execution_count": 19,
   "metadata": {},
   "outputs": [
    {
     "data": {
      "text/plain": [
       "(-15, 10)"
      ]
     },
     "execution_count": 19,
     "metadata": {},
     "output_type": "execute_result"
    },
    {
     "data": {
      "image/png": "[encoded data removed]",
      "text/plain": [
       "<Figure size 432x288 with 1 Axes>"
      ]
     },
     "metadata": {},
     "output_type": "display_data"
    }
   ],
   "source": [
    "%matplotlib widget\n",
    "fig = plt.subp\n",
    "plt.scatter(newresults[:,0],newresults[:,1],c=labels)\n",
    "plt.xlim(-10,100)\n",
    "plt.ylim(-15,10)"
   ]
  },
  {
   "cell_type": "code",
   "execution_count": 20,
   "metadata": {},
   "outputs": [
    {
     "data": {
      "text/plain": [
       "(-15, 10)"
      ]
     },
     "execution_count": 20,
     "metadata": {},
     "output_type": "execute_result"
    },
    {
     "data": {
      "image/png": "[encoded data removed]",
      "text/plain": [
       "<Figure size 432x288 with 1 Axes>"
      ]
     },
     "metadata": {},
     "output_type": "display_data"
    }
   ],
   "source": [
    "plt.scatter(results[:,0],results[:,1],c=cl.labels_)\n",
    "plt.xlim(-10,100)\n",
    "plt.ylim(-15,10)"
   ]
  },
  {
   "cell_type": "code",
   "execution_count": 39,
   "metadata": {},
   "outputs": [],
   "source": [
    "#recluster after changes\n",
    "newcl = KMeans(12).fit(newresults)"
   ]
  },
  {
   "cell_type": "code",
   "execution_count": 41,
   "metadata": {},
   "outputs": [],
   "source": [
    "%matplotlib widget\n",
    "from mpl_toolkits.mplot3d import Axes3D"
   ]
  },
  {
   "cell_type": "code",
   "execution_count": 42,
   "metadata": {},
   "outputs": [
    {
     "data": {
      "application/vnd.jupyter.widget-view+json": {
       "model_id": "08cdd96c792e4814a0793d0f930f1bec",
       "version_major": 2,
       "version_minor": 0
      },
      "text/plain": [
       "FigureCanvasNbAgg()"
      ]
     },
     "metadata": {},
     "output_type": "display_data"
    },
    {
     "data": {
      "text/plain": [
       "<mpl_toolkits.mplot3d.art3d.Path3DCollection at 0x7fc2e8a7b4a8>"
      ]
     },
     "execution_count": 42,
     "metadata": {},
     "output_type": "execute_result"
    }
   ],
   "source": [
    "fig = plt.figure()\n",
    "ax = fig.add_subplot(111, projection='3d')\n",
    "ax.scatter(results[:,0],results[:,1],results[:,2],c=cl.labels_)"
   ]
  },
  {
   "cell_type": "code",
   "execution_count": null,
   "metadata": {},
   "outputs": [],
   "source": [
    "\n",
    "# plt.scatter(newresults[:,0],newresults[:,1],c=newcl.labels_)\n",
    "# plt.xlim(-10,100)\n",
    "# plt.ylim(-15,10)\n",
    "\n",
    "fig = plt.figure()\n",
    "ax = fig.add_subplot(111, projection='3d')\n",
    "ax.scatter(newresults[:,0],newresults[:,1],newresults[:,2],c=newcl.labels_)"
   ]
  },
  {
   "cell_type": "code",
   "execution_count": null,
   "metadata": {},
   "outputs": [],
   "source": []
  },
  {
   "cell_type": "code",
   "execution_count": null,
   "metadata": {},
   "outputs": [],
   "source": []
  },
  {
   "cell_type": "code",
   "execution_count": null,
   "metadata": {},
   "outputs": [],
   "source": []
  }
 ],
 "metadata": {
  "kernelspec": {
   "display_name": "Python 3",
   "language": "python",
   "name": "python3"
  },
  "language_info": {
   "codemirror_mode": {
    "name": "ipython",
    "version": 3
   },
   "file_extension": ".py",
   "mimetype": "text/x-python",
   "name": "python",
   "nbconvert_exporter": "python",
   "pygments_lexer": "ipython3",
   "version": "3.6.5"
  }
 },
 "nbformat": 4,
 "nbformat_minor": 2
}
