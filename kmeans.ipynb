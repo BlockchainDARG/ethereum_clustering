{
 "cells": [
  {
   "cell_type": "markdown",
   "metadata": {},
   "source": [
    "K-Means"
   ]
  },
  {
   "cell_type": "code",
   "execution_count": 1,
   "metadata": {},
   "outputs": [],
   "source": [
    "%load_ext google.cloud.bigquery\n",
    "%matplotlib inline\n",
    "from google.cloud import bigquery\n",
    "client = bigquery.Client()\n",
    "import matplotlib.pyplot as plt\n",
    "import numpy as np\n",
    "import pandas as pd\n",
    "from sklearn import cluster\n",
    "from sklearn.metrics import silhouette_score, silhouette_samples\n",
    "from sklearn.preprocessing import StandardScaler\n",
    "from sklearn.decomposition import PCA\n",
    "from sklearn.pipeline import Pipeline\n",
    "import random\n",
    "from sklearn.cluster import KMeans\n",
    "import matplotlib.cm as cm"
   ]
  },
  {
   "cell_type": "code",
   "execution_count": 2,
   "metadata": {},
   "outputs": [],
   "source": [
    "sql = '''\n",
    "SELECT *  FROM `eth-tokens.alldata.clean_avg` LIMIT 5000\n",
    "'''\n",
    "\n",
    "df = client.query(sql).to_dataframe()"
   ]
  },
  {
   "cell_type": "code",
   "execution_count": 3,
   "metadata": {},
   "outputs": [],
   "source": [
    "#remove address (string) from analysis\n",
    "data = df.iloc[:,1:]"
   ]
  },
  {
   "cell_type": "code",
   "execution_count": 297,
   "metadata": {},
   "outputs": [],
   "source": [
    "#number of PCA features is full reconstruction, for now\n",
    "num_features = data.shape[1]\n",
    "num_clusters = 4"
   ]
  },
  {
   "cell_type": "code",
   "execution_count": 298,
   "metadata": {},
   "outputs": [
    {
     "data": {
      "text/plain": [
       "KMeans(algorithm='auto', copy_x=True, init='k-means++', max_iter=300,\n",
       "    n_clusters=4, n_init=10, n_jobs=1, precompute_distances='auto',\n",
       "    random_state=None, tol=0.0001, verbose=0)"
      ]
     },
     "execution_count": 298,
     "metadata": {},
     "output_type": "execute_result"
    }
   ],
   "source": [
    "scale = StandardScaler()\n",
    "pca =PCA(n_components=num_features)\n",
    "cl = KMeans(num_clusters)\n",
    "#build pipeline\n",
    "pipe = Pipeline([('scale', scale ),\n",
    "                 ('PCA', pca)])\n",
    "\n",
    "results = pipe.fit_transform(data)\n",
    "\n",
    "cl.fit(results)\n",
    "\n"
   ]
  },
  {
   "cell_type": "code",
   "execution_count": 299,
   "metadata": {},
   "outputs": [
    {
     "data": {
      "text/html": [
       "<div>\n",
       "<style scoped>\n",
       "    .dataframe tbody tr th:only-of-type {\n",
       "        vertical-align: middle;\n",
       "    }\n",
       "\n",
       "    .dataframe tbody tr th {\n",
       "        vertical-align: top;\n",
       "    }\n",
       "\n",
       "    .dataframe thead th {\n",
       "        text-align: right;\n",
       "    }\n",
       "</style>\n",
       "<table border=\"1\" class=\"dataframe\">\n",
       "  <thead>\n",
       "    <tr style=\"text-align: right;\">\n",
       "      <th></th>\n",
       "      <th>outgoing_txns</th>\n",
       "      <th>incoming_txns</th>\n",
       "      <th>total_eth_sent</th>\n",
       "      <th>avg_eth_sent</th>\n",
       "      <th>total_usd_sent</th>\n",
       "      <th>avg_usd_sent</th>\n",
       "      <th>total_eth_recd</th>\n",
       "      <th>avg_eth_recd</th>\n",
       "      <th>total_usd_recd</th>\n",
       "      <th>avg_usd_recd</th>\n",
       "      <th>...</th>\n",
       "      <th>monthly_eth_sent</th>\n",
       "      <th>monthly_usd_sent</th>\n",
       "      <th>monthly_eth_recd</th>\n",
       "      <th>monthly_usd_recd</th>\n",
       "      <th>contracts_created</th>\n",
       "      <th>contract_txns_sent</th>\n",
       "      <th>incoming_avg_time_btwn_txns</th>\n",
       "      <th>incoming_std_time_btwn_txns</th>\n",
       "      <th>outgoing_avg_time_btwn_txns</th>\n",
       "      <th>outgoing_std_time_btwn_txns</th>\n",
       "    </tr>\n",
       "  </thead>\n",
       "  <tbody>\n",
       "    <tr>\n",
       "      <th>0</th>\n",
       "      <td>8.584970</td>\n",
       "      <td>11.564997</td>\n",
       "      <td>50.685102</td>\n",
       "      <td>6.389136</td>\n",
       "      <td>1.912328e+04</td>\n",
       "      <td>1763.427118</td>\n",
       "      <td>55.654707</td>\n",
       "      <td>6.011355</td>\n",
       "      <td>2.066503e+04</td>\n",
       "      <td>1.833455e+03</td>\n",
       "      <td>...</td>\n",
       "      <td>15.367924</td>\n",
       "      <td>4.235835e+03</td>\n",
       "      <td>17.596922</td>\n",
       "      <td>4.794294e+03</td>\n",
       "      <td>3.351388e-02</td>\n",
       "      <td>2.738659e-01</td>\n",
       "      <td>3.302664e+05</td>\n",
       "      <td>3.266784e+05</td>\n",
       "      <td>338913.293525</td>\n",
       "      <td>3.382735e+05</td>\n",
       "    </tr>\n",
       "    <tr>\n",
       "      <th>1</th>\n",
       "      <td>25.615156</td>\n",
       "      <td>42.648341</td>\n",
       "      <td>141.382804</td>\n",
       "      <td>5.455985</td>\n",
       "      <td>6.325188e+04</td>\n",
       "      <td>2412.820961</td>\n",
       "      <td>154.399609</td>\n",
       "      <td>7.011530</td>\n",
       "      <td>6.752807e+04</td>\n",
       "      <td>2.806508e+03</td>\n",
       "      <td>...</td>\n",
       "      <td>12.654539</td>\n",
       "      <td>5.664059e+03</td>\n",
       "      <td>13.421530</td>\n",
       "      <td>6.066024e+03</td>\n",
       "      <td>8.320951e-02</td>\n",
       "      <td>3.415800e+01</td>\n",
       "      <td>9.242428e+05</td>\n",
       "      <td>1.295546e+06</td>\n",
       "      <td>765906.258197</td>\n",
       "      <td>1.254089e+06</td>\n",
       "    </tr>\n",
       "    <tr>\n",
       "      <th>2</th>\n",
       "      <td>28.250000</td>\n",
       "      <td>33.166667</td>\n",
       "      <td>9723.302680</td>\n",
       "      <td>389.779996</td>\n",
       "      <td>4.238680e+06</td>\n",
       "      <td>152085.587429</td>\n",
       "      <td>8210.394802</td>\n",
       "      <td>420.533290</td>\n",
       "      <td>3.380167e+06</td>\n",
       "      <td>1.915194e+05</td>\n",
       "      <td>...</td>\n",
       "      <td>965.909851</td>\n",
       "      <td>3.830800e+05</td>\n",
       "      <td>874.483456</td>\n",
       "      <td>3.361764e+05</td>\n",
       "      <td>7.542578e-15</td>\n",
       "      <td>2.932765e-12</td>\n",
       "      <td>1.001371e+06</td>\n",
       "      <td>1.445606e+06</td>\n",
       "      <td>673216.817529</td>\n",
       "      <td>1.377024e+06</td>\n",
       "    </tr>\n",
       "    <tr>\n",
       "      <th>3</th>\n",
       "      <td>19.666667</td>\n",
       "      <td>12.666667</td>\n",
       "      <td>23940.095369</td>\n",
       "      <td>1764.657422</td>\n",
       "      <td>1.463550e+07</td>\n",
       "      <td>758436.178875</td>\n",
       "      <td>24859.317667</td>\n",
       "      <td>3213.028092</td>\n",
       "      <td>1.396037e+07</td>\n",
       "      <td>1.458694e+06</td>\n",
       "      <td>...</td>\n",
       "      <td>3599.626555</td>\n",
       "      <td>1.585830e+06</td>\n",
       "      <td>3820.244607</td>\n",
       "      <td>1.591886e+06</td>\n",
       "      <td>4.073131e-15</td>\n",
       "      <td>1.980816e-11</td>\n",
       "      <td>1.768100e+05</td>\n",
       "      <td>4.143434e+05</td>\n",
       "      <td>716717.240513</td>\n",
       "      <td>1.729759e+06</td>\n",
       "    </tr>\n",
       "  </tbody>\n",
       "</table>\n",
       "<p>4 rows × 23 columns</p>\n",
       "</div>"
      ],
      "text/plain": [
       "   outgoing_txns  incoming_txns  total_eth_sent  avg_eth_sent  total_usd_sent  \\\n",
       "0       8.584970      11.564997       50.685102      6.389136    1.912328e+04   \n",
       "1      25.615156      42.648341      141.382804      5.455985    6.325188e+04   \n",
       "2      28.250000      33.166667     9723.302680    389.779996    4.238680e+06   \n",
       "3      19.666667      12.666667    23940.095369   1764.657422    1.463550e+07   \n",
       "\n",
       "    avg_usd_sent  total_eth_recd  avg_eth_recd  total_usd_recd  avg_usd_recd  \\\n",
       "0    1763.427118       55.654707      6.011355    2.066503e+04  1.833455e+03   \n",
       "1    2412.820961      154.399609      7.011530    6.752807e+04  2.806508e+03   \n",
       "2  152085.587429     8210.394802    420.533290    3.380167e+06  1.915194e+05   \n",
       "3  758436.178875    24859.317667   3213.028092    1.396037e+07  1.458694e+06   \n",
       "\n",
       "              ...               monthly_eth_sent  monthly_usd_sent  \\\n",
       "0             ...                      15.367924      4.235835e+03   \n",
       "1             ...                      12.654539      5.664059e+03   \n",
       "2             ...                     965.909851      3.830800e+05   \n",
       "3             ...                    3599.626555      1.585830e+06   \n",
       "\n",
       "   monthly_eth_recd  monthly_usd_recd  contracts_created  contract_txns_sent  \\\n",
       "0         17.596922      4.794294e+03       3.351388e-02        2.738659e-01   \n",
       "1         13.421530      6.066024e+03       8.320951e-02        3.415800e+01   \n",
       "2        874.483456      3.361764e+05       7.542578e-15        2.932765e-12   \n",
       "3       3820.244607      1.591886e+06       4.073131e-15        1.980816e-11   \n",
       "\n",
       "   incoming_avg_time_btwn_txns  incoming_std_time_btwn_txns  \\\n",
       "0                 3.302664e+05                 3.266784e+05   \n",
       "1                 9.242428e+05                 1.295546e+06   \n",
       "2                 1.001371e+06                 1.445606e+06   \n",
       "3                 1.768100e+05                 4.143434e+05   \n",
       "\n",
       "   outgoing_avg_time_btwn_txns  outgoing_std_time_btwn_txns  \n",
       "0                338913.293525                 3.382735e+05  \n",
       "1                765906.258197                 1.254089e+06  \n",
       "2                673216.817529                 1.377024e+06  \n",
       "3                716717.240513                 1.729759e+06  \n",
       "\n",
       "[4 rows x 23 columns]"
      ]
     },
     "execution_count": 299,
     "metadata": {},
     "output_type": "execute_result"
    }
   ],
   "source": [
    "#get centroids\n",
    "c = cl.cluster_centers_\n",
    "#transform back to real numbers\n",
    "medoids = scale.inverse_transform(pca.inverse_transform(c))\n",
    "pd.DataFrame(medoids, columns = data.columns)"
   ]
  },
  {
   "cell_type": "code",
   "execution_count": 300,
   "metadata": {},
   "outputs": [
    {
     "data": {
      "image/png": "[encoded data removed]",
      "text/plain": [
       "<Figure size 432x288 with 1 Axes>"
      ]
     },
     "metadata": {},
     "output_type": "display_data"
    }
   ],
   "source": [
    "#percent of variance explained by each component\n",
    "\n",
    "plt.plot(np.arange(pca.n_components_) ,np.cumsum(pca.explained_variance_ratio_)*100)\n",
    "plt.grid(b=True)\n",
    "plt.xlabel('principal component')\n",
    "plt.title('Cumulative Percent of Variance explained')\n",
    "plt.show()"
   ]
  },
  {
   "cell_type": "code",
   "execution_count": 301,
   "metadata": {},
   "outputs": [
    {
     "data": {
      "text/plain": [
       "<matplotlib.collections.PathCollection at 0x1a17b81e48>"
      ]
     },
     "execution_count": 301,
     "metadata": {},
     "output_type": "execute_result"
    },
    {
     "data": {
      "image/png": "[encoded data removed]",
      "text/plain": [
       "<Figure size 432x288 with 1 Axes>"
      ]
     },
     "metadata": {},
     "output_type": "display_data"
    }
   ],
   "source": [
    "plt.scatter(results[:,0],results[:,1],c=cl.labels_, s=5)"
   ]
  },
  {
   "cell_type": "code",
   "execution_count": 302,
   "metadata": {},
   "outputs": [
    {
     "data": {
      "text/plain": [
       "<matplotlib.collections.PathCollection at 0x1a17c63278>"
      ]
     },
     "execution_count": 302,
     "metadata": {},
     "output_type": "execute_result"
    },
    {
     "data": {
      "image/png": "[encoded data removed]",
      "text/plain": [
       "<Figure size 432x288 with 1 Axes>"
      ]
     },
     "metadata": {},
     "output_type": "display_data"
    }
   ],
   "source": [
    "#plot in cluster distance space\n",
    "r = cl.transform(results)\n",
    "plt.scatter(r[:,3],r[:,2],c=cl.labels_, s=5)"
   ]
  },
  {
   "cell_type": "code",
   "execution_count": 303,
   "metadata": {},
   "outputs": [],
   "source": [
    "#elbow method\n"
   ]
  },
  {
   "cell_type": "code",
   "execution_count": 304,
   "metadata": {},
   "outputs": [],
   "source": [
    "#scoring metric?\n",
    "from sklearn.metrics import calinski_harabaz_score as ch_score\n",
    "clusters = [2, 3,4,5,6,7,8,9,10,12,15,20,25, 40]\n",
    "scores = []\n",
    "inertias = []\n",
    "for c in clusters:\n",
    "    cl_n = KMeans(c).fit(results)\n",
    "    score = ch_score(results, cl_n.labels_)\n",
    "    scores.append(score)\n",
    "    inertias.append(cl_n.inertia_)\n"
   ]
  },
  {
   "cell_type": "code",
   "execution_count": 305,
   "metadata": {},
   "outputs": [
    {
     "data": {
      "text/plain": [
       "Text(0.5,1,'Calinski Harabaz Scores')"
      ]
     },
     "execution_count": 305,
     "metadata": {},
     "output_type": "execute_result"
    },
    {
     "data": {
      "image/png": "[encoded data removed]",
      "text/plain": [
       "<Figure size 432x288 with 1 Axes>"
      ]
     },
     "metadata": {},
     "output_type": "display_data"
    }
   ],
   "source": [
    "plt.plot(clusters, scores)\n",
    "plt.title('Calinski Harabaz Scores')"
   ]
  },
  {
   "cell_type": "code",
   "execution_count": 306,
   "metadata": {},
   "outputs": [
    {
     "data": {
      "text/plain": [
       "Text(0,0.5,'within cluster sum of squares')"
      ]
     },
     "execution_count": 306,
     "metadata": {},
     "output_type": "execute_result"
    },
    {
     "data": {
      "image/png": "[encoded data removed]",
      "text/plain": [
       "<Figure size 432x288 with 1 Axes>"
      ]
     },
     "metadata": {},
     "output_type": "display_data"
    }
   ],
   "source": [
    "plt.plot(clusters,inertias)\n",
    "plt.title('Elbow plot')\n",
    "plt.ylabel('within cluster sum of squares')"
   ]
  },
  {
   "cell_type": "code",
   "execution_count": 307,
   "metadata": {},
   "outputs": [],
   "source": [
    "#outlier removal\n",
    "\n",
    "\n",
    "\n",
    "def remove_outliers(results, cl, threshold):\n",
    "    '''\n",
    "    returns subset of results, and associated labels as a tuple\n",
    "    takes results and a fit KMeans cluster object'''\n",
    "    \n",
    "    new_labels = []\n",
    "    new_results = []\n",
    "    \n",
    "    \n",
    "    #code for deciding what clusters to keep\n",
    "    for i, center in enumerate(cl.cluster_centers_):\n",
    "        within_cluster_results = results[cl.labels_==i]\n",
    "        centroid = cl.cluster_centers_[i]\n",
    "        #calc std vectors\n",
    "        stdev = np.std(within_cluster_results, axis=0)\n",
    "       \n",
    "        keep = np.linalg.norm((centroid - within_cluster_results), axis=1) < threshold*np.linalg.norm(stdev)\n",
    "        new_results.append(within_cluster_results[keep])\n",
    "        #add labels?\n",
    "        new_labels.extend([i for j in range(len(within_cluster_results[keep]))])\n",
    "    return np.vstack(new_results), np.array(new_labels)\n"
   ]
  },
  {
   "cell_type": "code",
   "execution_count": null,
   "metadata": {},
   "outputs": [],
   "source": []
  },
  {
   "cell_type": "code",
   "execution_count": 308,
   "metadata": {},
   "outputs": [],
   "source": [
    "thresholds = np.linspace(.5,3, 15)\n",
    "\n",
    "test = [remove_outliers(results, cl,t) for t in thresholds]\n",
    "\n",
    "scores= []\n",
    "for (res, labels) in test:\n",
    "    \n",
    "    score = ch_score(res, labels)\n",
    "    scores.append(score)"
   ]
  },
  {
   "cell_type": "code",
   "execution_count": null,
   "metadata": {},
   "outputs": [],
   "source": []
  },
  {
   "cell_type": "code",
   "execution_count": 309,
   "metadata": {},
   "outputs": [
    {
     "data": {
      "text/plain": [
       "Text(0.5,1,'Calinski Harabaz Scores as std threshold changes')"
      ]
     },
     "execution_count": 309,
     "metadata": {},
     "output_type": "execute_result"
    },
    {
     "data": {
      "image/png": "[encoded data removed]",
      "text/plain": [
       "<Figure size 432x288 with 1 Axes>"
      ]
     },
     "metadata": {},
     "output_type": "display_data"
    }
   ],
   "source": [
    "plt.plot(thresholds, scores)\n",
    "plt.title('Calinski Harabaz Scores as std threshold changes')"
   ]
  },
  {
   "cell_type": "code",
   "execution_count": 310,
   "metadata": {},
   "outputs": [],
   "source": [
    "#empirical best threshold 1.25 stdev\n",
    "newresults, labels = remove_outliers(results, cl,1.25)"
   ]
  },
  {
   "cell_type": "code",
   "execution_count": 313,
   "metadata": {},
   "outputs": [
    {
     "data": {
      "text/plain": [
       "(-15, 10)"
      ]
     },
     "execution_count": 313,
     "metadata": {},
     "output_type": "execute_result"
    },
    {
     "data": {
      "image/png": "[encoded data removed]",
      "text/plain": [
       "<Figure size 432x288 with 1 Axes>"
      ]
     },
     "metadata": {},
     "output_type": "display_data"
    }
   ],
   "source": [
    "plt.scatter(newresults[:,0],newresults[:,1],c=labels, s=5)\n",
    "plt.xlim(-10,100)\n",
    "plt.ylim(-15,10)"
   ]
  },
  {
   "cell_type": "code",
   "execution_count": 314,
   "metadata": {},
   "outputs": [
    {
     "data": {
      "text/plain": [
       "(-15, 10)"
      ]
     },
     "execution_count": 314,
     "metadata": {},
     "output_type": "execute_result"
    },
    {
     "data": {
      "image/png": "[encoded data removed]",
      "text/plain": [
       "<Figure size 432x288 with 1 Axes>"
      ]
     },
     "metadata": {},
     "output_type": "display_data"
    }
   ],
   "source": [
    "plt.scatter(results[:,0],results[:,1],c=cl.labels_, s=5)\n",
    "plt.xlim(-10,100)\n",
    "plt.ylim(-15,10)"
   ]
  },
  {
   "cell_type": "code",
   "execution_count": 315,
   "metadata": {},
   "outputs": [],
   "source": [
    "#recluster after changes\n",
    "newcl = KMeans(num_clusters).fit(newresults)"
   ]
  },
  {
   "cell_type": "code",
   "execution_count": 316,
   "metadata": {},
   "outputs": [
    {
     "data": {
      "text/plain": [
       "(-15, 10)"
      ]
     },
     "execution_count": 316,
     "metadata": {},
     "output_type": "execute_result"
    },
    {
     "data": {
      "image/png": "[encoded data removed]",
      "text/plain": [
       "<Figure size 432x288 with 1 Axes>"
      ]
     },
     "metadata": {},
     "output_type": "display_data"
    }
   ],
   "source": [
    "plt.scatter(newresults[:,0],newresults[:,1],c=newcl.labels_, s=5)\n",
    "plt.xlim(-10,100)\n",
    "plt.ylim(-15,10)"
   ]
  },
  {
   "cell_type": "code",
   "execution_count": null,
   "metadata": {},
   "outputs": [],
   "source": []
  },
  {
   "cell_type": "code",
   "execution_count": null,
   "metadata": {},
   "outputs": [],
   "source": []
  },
  {
   "cell_type": "code",
   "execution_count": null,
   "metadata": {},
   "outputs": [],
   "source": []
  }
 ],
 "metadata": {
  "kernelspec": {
   "display_name": "Python 3",
   "language": "python",
   "name": "python3"
  },
  "language_info": {
   "codemirror_mode": {
    "name": "ipython",
    "version": 3
   },
   "file_extension": ".py",
   "mimetype": "text/x-python",
   "name": "python",
   "nbconvert_exporter": "python",
   "pygments_lexer": "ipython3",
   "version": "3.6.5"
  }
 },
 "nbformat": 4,
 "nbformat_minor": 2
}
