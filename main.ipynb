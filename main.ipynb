{
 "cells": [
  {
   "cell_type": "code",
   "execution_count": 72,
   "metadata": {},
   "outputs": [],
   "source": [
    "%run functions.py"
   ]
  },
  {
   "cell_type": "code",
   "execution_count": 6,
   "metadata": {},
   "outputs": [],
   "source": [
    "table = 'eth-tokens.test.clean_avg_with_balances_tokens'\n",
    "label_table = 'eth-tokens.alldata.etherscan_labelcloud'"
   ]
  },
  {
   "cell_type": "code",
   "execution_count": 132,
   "metadata": {},
   "outputs": [],
   "source": [
    "df, dflabel = load_data_from_bigquery(table, label_table)"
   ]
  },
  {
   "cell_type": "code",
   "execution_count": 133,
   "metadata": {},
   "outputs": [],
   "source": [
    "results = data_pipeline(df)"
   ]
  },
  {
   "cell_type": "code",
   "execution_count": 134,
   "metadata": {},
   "outputs": [],
   "source": [
    "cl = cluster(results, n_clusters=8)"
   ]
  },
  {
   "cell_type": "code",
   "execution_count": 135,
   "metadata": {},
   "outputs": [],
   "source": [
    "assign_cluster_to_data(df, dflabel, cl)"
   ]
  },
  {
   "cell_type": "code",
   "execution_count": null,
   "metadata": {},
   "outputs": [
    {
     "name": "stdout",
     "output_type": "stream",
     "text": [
      "[t-SNE] Computing 121 nearest neighbors...\n",
      "[t-SNE] Indexed 35917 samples in 0.024s...\n",
      "[t-SNE] Computed neighbors for 35917 samples in 10.138s...\n",
      "[t-SNE] Computed conditional probabilities for sample 1000 / 35917\n",
      "[t-SNE] Computed conditional probabilities for sample 2000 / 35917\n",
      "[t-SNE] Computed conditional probabilities for sample 3000 / 35917\n",
      "[t-SNE] Computed conditional probabilities for sample 4000 / 35917\n",
      "[t-SNE] Computed conditional probabilities for sample 5000 / 35917\n",
      "[t-SNE] Computed conditional probabilities for sample 6000 / 35917\n",
      "[t-SNE] Computed conditional probabilities for sample 7000 / 35917\n",
      "[t-SNE] Computed conditional probabilities for sample 8000 / 35917\n",
      "[t-SNE] Computed conditional probabilities for sample 9000 / 35917\n",
      "[t-SNE] Computed conditional probabilities for sample 10000 / 35917\n",
      "[t-SNE] Computed conditional probabilities for sample 11000 / 35917\n",
      "[t-SNE] Computed conditional probabilities for sample 12000 / 35917\n",
      "[t-SNE] Computed conditional probabilities for sample 13000 / 35917\n",
      "[t-SNE] Computed conditional probabilities for sample 14000 / 35917\n",
      "[t-SNE] Computed conditional probabilities for sample 15000 / 35917\n",
      "[t-SNE] Computed conditional probabilities for sample 16000 / 35917\n",
      "[t-SNE] Computed conditional probabilities for sample 17000 / 35917\n",
      "[t-SNE] Computed conditional probabilities for sample 18000 / 35917\n",
      "[t-SNE] Computed conditional probabilities for sample 19000 / 35917\n",
      "[t-SNE] Computed conditional probabilities for sample 20000 / 35917\n",
      "[t-SNE] Computed conditional probabilities for sample 21000 / 35917\n",
      "[t-SNE] Computed conditional probabilities for sample 22000 / 35917\n",
      "[t-SNE] Computed conditional probabilities for sample 23000 / 35917\n",
      "[t-SNE] Computed conditional probabilities for sample 24000 / 35917\n",
      "[t-SNE] Computed conditional probabilities for sample 25000 / 35917\n",
      "[t-SNE] Computed conditional probabilities for sample 26000 / 35917\n",
      "[t-SNE] Computed conditional probabilities for sample 27000 / 35917\n",
      "[t-SNE] Computed conditional probabilities for sample 28000 / 35917\n",
      "[t-SNE] Computed conditional probabilities for sample 29000 / 35917\n",
      "[t-SNE] Computed conditional probabilities for sample 30000 / 35917\n",
      "[t-SNE] Computed conditional probabilities for sample 31000 / 35917\n",
      "[t-SNE] Computed conditional probabilities for sample 32000 / 35917\n",
      "[t-SNE] Computed conditional probabilities for sample 33000 / 35917\n",
      "[t-SNE] Computed conditional probabilities for sample 34000 / 35917\n",
      "[t-SNE] Computed conditional probabilities for sample 35000 / 35917\n",
      "[t-SNE] Computed conditional probabilities for sample 35917 / 35917\n",
      "[t-SNE] Mean sigma: 0.604416\n"
     ]
    }
   ],
   "source": [
    "tsne_results = calc_tsne(results)"
   ]
  },
  {
   "cell_type": "code",
   "execution_count": null,
   "metadata": {},
   "outputs": [],
   "source": [
    "plot_tsne(cl, tsne_results)"
   ]
  },
  {
   "cell_type": "code",
   "execution_count": null,
   "metadata": {},
   "outputs": [],
   "source": [
    "#highlighting clusters of interest\n",
    "categs = ('Exchange', 'Mining')#, 'ICO Wallets')\n",
    "colors = ('green', 'blue')#, 'orange')\n",
    "\n",
    "d = {}\n",
    "for c in categs:\n",
    "    d[c] = find_category_of_cluster(cl,dflabel, category=c)\n",
    "\n",
    "clusters= list(d.values())"
   ]
  },
  {
   "cell_type": "code",
   "execution_count": null,
   "metadata": {},
   "outputs": [],
   "source": [
    "plot_tsne_with_labeled_clusters(tsne_results, cl, clusters, categs, colors)"
   ]
  },
  {
   "cell_type": "code",
   "execution_count": null,
   "metadata": {},
   "outputs": [],
   "source": [
    "plot_tsne_with_labels(tsne_results,df, dflabel,categs,colors)"
   ]
  },
  {
   "cell_type": "code",
   "execution_count": null,
   "metadata": {},
   "outputs": [],
   "source": [
    "#recluster with only clusters of interest - will help with separation\n",
    "\n",
    "subcl, subresults, newdf = recluster(df, cl, clusters, n_clusters=4)"
   ]
  },
  {
   "cell_type": "code",
   "execution_count": null,
   "metadata": {},
   "outputs": [],
   "source": [
    "sub_tsne_results = calc_tsne(results)"
   ]
  },
  {
   "cell_type": "code",
   "execution_count": null,
   "metadata": {},
   "outputs": [],
   "source": [
    "#highlighting clusters of interest\n",
    "categs = ('Exchange', 'Mining', 'ICO Wallets')\n",
    "colors = ('green', 'blue', 'orange')\n",
    "\n",
    "d = {}\n",
    "for c in categs:\n",
    "    d[c] = find_category_of_cluster(subcl,dflabel, category=c)\n",
    "\n",
    "subclusters= list(d.values())"
   ]
  },
  {
   "cell_type": "code",
   "execution_count": null,
   "metadata": {},
   "outputs": [],
   "source": [
    "d"
   ]
  },
  {
   "cell_type": "code",
   "execution_count": null,
   "metadata": {},
   "outputs": [],
   "source": [
    "plot_all(sub_tsne_results,subcl,newdf,dflabel,subclusters,categs,colors )\n"
   ]
  },
  {
   "cell_type": "code",
   "execution_count": null,
   "metadata": {},
   "outputs": [],
   "source": []
  },
  {
   "cell_type": "code",
   "execution_count": null,
   "metadata": {},
   "outputs": [],
   "source": []
  },
  {
   "cell_type": "code",
   "execution_count": null,
   "metadata": {},
   "outputs": [],
   "source": []
  },
  {
   "cell_type": "code",
   "execution_count": null,
   "metadata": {},
   "outputs": [],
   "source": []
  },
  {
   "cell_type": "code",
   "execution_count": null,
   "metadata": {},
   "outputs": [],
   "source": []
  }
 ],
 "metadata": {
  "kernelspec": {
   "display_name": "Python 3",
   "language": "python",
   "name": "python3"
  },
  "language_info": {
   "codemirror_mode": {
    "name": "ipython",
    "version": 3
   },
   "file_extension": ".py",
   "mimetype": "text/x-python",
   "name": "python",
   "nbconvert_exporter": "python",
   "pygments_lexer": "ipython3",
   "version": "3.6.5"
  }
 },
 "nbformat": 4,
 "nbformat_minor": 2
}
