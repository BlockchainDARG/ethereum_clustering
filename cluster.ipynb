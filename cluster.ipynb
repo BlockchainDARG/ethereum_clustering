{
 "cells": [
  {
   "cell_type": "code",
   "execution_count": 1,
   "metadata": {},
   "outputs": [],
   "source": [
    "%load_ext google.cloud.bigquery\n",
    "from google.cloud import bigquery\n",
    "client = bigquery.Client()\n",
    "import matplotlib.pyplot as plt\n",
    "%matplotlib widget\n",
    "import numpy as np\n",
    "import pandas as pd\n",
    "from sklearn import cluster\n",
    "from sklearn.metrics import silhouette_score, silhouette_samples\n",
    "from sklearn.preprocessing import StandardScaler\n",
    "from sklearn.decomposition import PCA\n",
    "from sklearn.pipeline import Pipeline\n",
    "import random\n",
    "from sklearn.cluster import KMeans\n",
    "import matplotlib.cm as cm"
   ]
  },
  {
   "cell_type": "code",
   "execution_count": 2,
   "metadata": {},
   "outputs": [
    {
     "data": {
      "text/html": [
       "<div>\n",
       "<style scoped>\n",
       "    .dataframe tbody tr th:only-of-type {\n",
       "        vertical-align: middle;\n",
       "    }\n",
       "\n",
       "    .dataframe tbody tr th {\n",
       "        vertical-align: top;\n",
       "    }\n",
       "\n",
       "    .dataframe thead th {\n",
       "        text-align: right;\n",
       "    }\n",
       "</style>\n",
       "<table border=\"1\" class=\"dataframe\">\n",
       "  <thead>\n",
       "    <tr style=\"text-align: right;\">\n",
       "      <th></th>\n",
       "      <th>address</th>\n",
       "      <th>outgoing_txns</th>\n",
       "      <th>incoming_txns</th>\n",
       "      <th>total_eth_sent</th>\n",
       "      <th>avg_eth_sent</th>\n",
       "      <th>total_usd_sent</th>\n",
       "      <th>avg_usd_sent</th>\n",
       "      <th>total_eth_recd</th>\n",
       "      <th>avg_eth_recd</th>\n",
       "      <th>total_usd_recd</th>\n",
       "      <th>avg_usd_recd</th>\n",
       "      <th>active_months</th>\n",
       "      <th>monthly_outgoing_txns</th>\n",
       "      <th>monthly_incoming_txns</th>\n",
       "      <th>monthly_eth_sent</th>\n",
       "      <th>monthly_usd_sent</th>\n",
       "      <th>monthly_eth_recd</th>\n",
       "      <th>monthly_usd_recd</th>\n",
       "      <th>contracts_created</th>\n",
       "      <th>contract_txns_sent</th>\n",
       "    </tr>\n",
       "  </thead>\n",
       "  <tbody>\n",
       "    <tr>\n",
       "      <th>0</th>\n",
       "      <td>0x221d605c7fc6aee622d72118342c85e141f01f4c</td>\n",
       "      <td>2</td>\n",
       "      <td>2</td>\n",
       "      <td>5.80426753</td>\n",
       "      <td>2.902133765</td>\n",
       "      <td>1241.627051</td>\n",
       "      <td>620.813526</td>\n",
       "      <td>5.80538053</td>\n",
       "      <td>2.902690265</td>\n",
       "      <td>1241.864626</td>\n",
       "      <td>620.932313</td>\n",
       "      <td>1</td>\n",
       "      <td>2.0</td>\n",
       "      <td>2.0</td>\n",
       "      <td>5.80426753</td>\n",
       "      <td>1241.627051</td>\n",
       "      <td>5.80538053</td>\n",
       "      <td>1241.864626</td>\n",
       "      <td>0</td>\n",
       "      <td>0</td>\n",
       "    </tr>\n",
       "    <tr>\n",
       "      <th>1</th>\n",
       "      <td>0xc025fadbe3c786a3a7b674b98a0b11abeb0d90fc</td>\n",
       "      <td>2</td>\n",
       "      <td>2</td>\n",
       "      <td>0.001655</td>\n",
       "      <td>0.0008275</td>\n",
       "      <td>0.348102</td>\n",
       "      <td>0.174051</td>\n",
       "      <td>0.002655</td>\n",
       "      <td>0.0013275</td>\n",
       "      <td>0.561002</td>\n",
       "      <td>0.280501</td>\n",
       "      <td>1</td>\n",
       "      <td>2.0</td>\n",
       "      <td>2.0</td>\n",
       "      <td>0.001655</td>\n",
       "      <td>0.348102</td>\n",
       "      <td>0.002655</td>\n",
       "      <td>0.561002</td>\n",
       "      <td>0</td>\n",
       "      <td>0</td>\n",
       "    </tr>\n",
       "    <tr>\n",
       "      <th>2</th>\n",
       "      <td>0xc01f8c04894a83dc7f9bc96ff78c446526328f40</td>\n",
       "      <td>2</td>\n",
       "      <td>3</td>\n",
       "      <td>0.73</td>\n",
       "      <td>0.365</td>\n",
       "      <td>146.744600</td>\n",
       "      <td>73.372300</td>\n",
       "      <td>0.9838378</td>\n",
       "      <td>0.327945933</td>\n",
       "      <td>199.831880</td>\n",
       "      <td>66.610627</td>\n",
       "      <td>1</td>\n",
       "      <td>2.0</td>\n",
       "      <td>3.0</td>\n",
       "      <td>0.73</td>\n",
       "      <td>146.744600</td>\n",
       "      <td>0.9838378</td>\n",
       "      <td>199.831880</td>\n",
       "      <td>0</td>\n",
       "      <td>0</td>\n",
       "    </tr>\n",
       "    <tr>\n",
       "      <th>3</th>\n",
       "      <td>0x890a64aa38f3ae0ca4a27875198cddb584f65dc9</td>\n",
       "      <td>2</td>\n",
       "      <td>3</td>\n",
       "      <td>0.00516286</td>\n",
       "      <td>0.00258143</td>\n",
       "      <td>1.041666</td>\n",
       "      <td>0.520833</td>\n",
       "      <td>0.03006893</td>\n",
       "      <td>0.010022977</td>\n",
       "      <td>5.997849</td>\n",
       "      <td>1.999283</td>\n",
       "      <td>1</td>\n",
       "      <td>2.0</td>\n",
       "      <td>3.0</td>\n",
       "      <td>0.00516286</td>\n",
       "      <td>1.041666</td>\n",
       "      <td>0.03006893</td>\n",
       "      <td>5.997849</td>\n",
       "      <td>0</td>\n",
       "      <td>0</td>\n",
       "    </tr>\n",
       "    <tr>\n",
       "      <th>4</th>\n",
       "      <td>0x4c1efa9a335d4d0acb4a0ad68394fe0d82dace02</td>\n",
       "      <td>2</td>\n",
       "      <td>2</td>\n",
       "      <td>66.027231604</td>\n",
       "      <td>33.013615802</td>\n",
       "      <td>13845.910467</td>\n",
       "      <td>6922.955234</td>\n",
       "      <td>66.02966767</td>\n",
       "      <td>33.014833835</td>\n",
       "      <td>13846.421310</td>\n",
       "      <td>6923.210655</td>\n",
       "      <td>1</td>\n",
       "      <td>2.0</td>\n",
       "      <td>2.0</td>\n",
       "      <td>66.027231604</td>\n",
       "      <td>13845.910467</td>\n",
       "      <td>66.02966767</td>\n",
       "      <td>13846.421310</td>\n",
       "      <td>0</td>\n",
       "      <td>0</td>\n",
       "    </tr>\n",
       "  </tbody>\n",
       "</table>\n",
       "</div>"
      ],
      "text/plain": [
       "                                      address  outgoing_txns  incoming_txns  \\\n",
       "0  0x221d605c7fc6aee622d72118342c85e141f01f4c              2              2   \n",
       "1  0xc025fadbe3c786a3a7b674b98a0b11abeb0d90fc              2              2   \n",
       "2  0xc01f8c04894a83dc7f9bc96ff78c446526328f40              2              3   \n",
       "3  0x890a64aa38f3ae0ca4a27875198cddb584f65dc9              2              3   \n",
       "4  0x4c1efa9a335d4d0acb4a0ad68394fe0d82dace02              2              2   \n",
       "\n",
       "  total_eth_sent  avg_eth_sent  total_usd_sent  avg_usd_sent total_eth_recd  \\\n",
       "0     5.80426753   2.902133765     1241.627051    620.813526     5.80538053   \n",
       "1       0.001655     0.0008275        0.348102      0.174051       0.002655   \n",
       "2           0.73         0.365      146.744600     73.372300      0.9838378   \n",
       "3     0.00516286    0.00258143        1.041666      0.520833     0.03006893   \n",
       "4   66.027231604  33.013615802    13845.910467   6922.955234    66.02966767   \n",
       "\n",
       "   avg_eth_recd  total_usd_recd  avg_usd_recd  active_months  \\\n",
       "0   2.902690265     1241.864626    620.932313              1   \n",
       "1     0.0013275        0.561002      0.280501              1   \n",
       "2   0.327945933      199.831880     66.610627              1   \n",
       "3   0.010022977        5.997849      1.999283              1   \n",
       "4  33.014833835    13846.421310   6923.210655              1   \n",
       "\n",
       "   monthly_outgoing_txns  monthly_incoming_txns monthly_eth_sent  \\\n",
       "0                    2.0                    2.0       5.80426753   \n",
       "1                    2.0                    2.0         0.001655   \n",
       "2                    2.0                    3.0             0.73   \n",
       "3                    2.0                    3.0       0.00516286   \n",
       "4                    2.0                    2.0     66.027231604   \n",
       "\n",
       "   monthly_usd_sent monthly_eth_recd  monthly_usd_recd  contracts_created  \\\n",
       "0       1241.627051       5.80538053       1241.864626                  0   \n",
       "1          0.348102         0.002655          0.561002                  0   \n",
       "2        146.744600        0.9838378        199.831880                  0   \n",
       "3          1.041666       0.03006893          5.997849                  0   \n",
       "4      13845.910467      66.02966767      13846.421310                  0   \n",
       "\n",
       "   contract_txns_sent  \n",
       "0                   0  \n",
       "1                   0  \n",
       "2                   0  \n",
       "3                   0  \n",
       "4                   0  "
      ]
     },
     "execution_count": 2,
     "metadata": {},
     "output_type": "execute_result"
    }
   ],
   "source": [
    "sql = '''\n",
    "SELECT *  FROM `eth-tokens.alldata.clean` LIMIT 1000\n",
    "'''\n",
    "\n",
    "df = client.query(sql).to_dataframe()\n",
    "df.head()"
   ]
  },
  {
   "cell_type": "code",
   "execution_count": 3,
   "metadata": {},
   "outputs": [],
   "source": [
    "data = df.iloc[:,1:]\n"
   ]
  },
  {
   "cell_type": "code",
   "execution_count": 4,
   "metadata": {},
   "outputs": [],
   "source": [
    "cl = cluster.KMeans(4)\n",
    "\n",
    "fit_cl = cl.fit(data)\n",
    "\n",
    "centroids = fit_cl.cluster_centers_"
   ]
  },
  {
   "cell_type": "code",
   "execution_count": 5,
   "metadata": {},
   "outputs": [
    {
     "data": {
      "text/html": [
       "<div>\n",
       "<style scoped>\n",
       "    .dataframe tbody tr th:only-of-type {\n",
       "        vertical-align: middle;\n",
       "    }\n",
       "\n",
       "    .dataframe tbody tr th {\n",
       "        vertical-align: top;\n",
       "    }\n",
       "\n",
       "    .dataframe thead th {\n",
       "        text-align: right;\n",
       "    }\n",
       "</style>\n",
       "<table border=\"1\" class=\"dataframe\">\n",
       "  <thead>\n",
       "    <tr style=\"text-align: right;\">\n",
       "      <th></th>\n",
       "      <th>outgoing_txns</th>\n",
       "      <th>incoming_txns</th>\n",
       "      <th>total_eth_sent</th>\n",
       "      <th>avg_eth_sent</th>\n",
       "      <th>total_usd_sent</th>\n",
       "      <th>avg_usd_sent</th>\n",
       "      <th>total_eth_recd</th>\n",
       "      <th>avg_eth_recd</th>\n",
       "      <th>total_usd_recd</th>\n",
       "      <th>avg_usd_recd</th>\n",
       "      <th>active_months</th>\n",
       "      <th>monthly_outgoing_txns</th>\n",
       "      <th>monthly_incoming_txns</th>\n",
       "      <th>monthly_eth_sent</th>\n",
       "      <th>monthly_usd_sent</th>\n",
       "      <th>monthly_eth_recd</th>\n",
       "      <th>monthly_usd_recd</th>\n",
       "      <th>contracts_created</th>\n",
       "      <th>contract_txns_sent</th>\n",
       "    </tr>\n",
       "  </thead>\n",
       "  <tbody>\n",
       "    <tr>\n",
       "      <th>0</th>\n",
       "      <td>10.361570</td>\n",
       "      <td>22.392562</td>\n",
       "      <td>161.059923</td>\n",
       "      <td>52.558255</td>\n",
       "      <td>7.746708e+03</td>\n",
       "      <td>1357.820364</td>\n",
       "      <td>174.954748</td>\n",
       "      <td>54.047638</td>\n",
       "      <td>8.178930e+03</td>\n",
       "      <td>1285.391505</td>\n",
       "      <td>19.044421</td>\n",
       "      <td>1.158233</td>\n",
       "      <td>1.808766</td>\n",
       "      <td>10.081004</td>\n",
       "      <td>1319.870253</td>\n",
       "      <td>10.947566</td>\n",
       "      <td>1424.309850</td>\n",
       "      <td>0.133264</td>\n",
       "      <td>7.851240e-01</td>\n",
       "    </tr>\n",
       "    <tr>\n",
       "      <th>1</th>\n",
       "      <td>121.500000</td>\n",
       "      <td>160.000000</td>\n",
       "      <td>9569.473185</td>\n",
       "      <td>87.803106</td>\n",
       "      <td>2.666855e+06</td>\n",
       "      <td>22965.568096</td>\n",
       "      <td>10659.514167</td>\n",
       "      <td>164.827407</td>\n",
       "      <td>3.093587e+06</td>\n",
       "      <td>37136.460597</td>\n",
       "      <td>13.000000</td>\n",
       "      <td>28.208333</td>\n",
       "      <td>17.437500</td>\n",
       "      <td>3671.399741</td>\n",
       "      <td>782072.632722</td>\n",
       "      <td>3717.180382</td>\n",
       "      <td>800376.711789</td>\n",
       "      <td>0.000000</td>\n",
       "      <td>0.000000e+00</td>\n",
       "    </tr>\n",
       "    <tr>\n",
       "      <th>2</th>\n",
       "      <td>82.333333</td>\n",
       "      <td>96.333333</td>\n",
       "      <td>2730.703323</td>\n",
       "      <td>281.996363</td>\n",
       "      <td>1.151438e+06</td>\n",
       "      <td>73786.656378</td>\n",
       "      <td>3758.957246</td>\n",
       "      <td>302.189377</td>\n",
       "      <td>1.371903e+06</td>\n",
       "      <td>70941.992260</td>\n",
       "      <td>8.666667</td>\n",
       "      <td>6.444444</td>\n",
       "      <td>9.039683</td>\n",
       "      <td>1145.302104</td>\n",
       "      <td>301126.820887</td>\n",
       "      <td>2148.409251</td>\n",
       "      <td>513594.185328</td>\n",
       "      <td>0.000000</td>\n",
       "      <td>-1.110223e-16</td>\n",
       "    </tr>\n",
       "    <tr>\n",
       "      <th>3</th>\n",
       "      <td>46.037037</td>\n",
       "      <td>39.888889</td>\n",
       "      <td>2574.344108</td>\n",
       "      <td>375.711012</td>\n",
       "      <td>3.801869e+05</td>\n",
       "      <td>57906.262745</td>\n",
       "      <td>2497.970805</td>\n",
       "      <td>486.071373</td>\n",
       "      <td>3.512081e+05</td>\n",
       "      <td>64693.819641</td>\n",
       "      <td>15.814815</td>\n",
       "      <td>11.324100</td>\n",
       "      <td>5.864183</td>\n",
       "      <td>233.346867</td>\n",
       "      <td>45676.311148</td>\n",
       "      <td>191.710082</td>\n",
       "      <td>36196.855149</td>\n",
       "      <td>0.000000</td>\n",
       "      <td>-2.220446e-16</td>\n",
       "    </tr>\n",
       "  </tbody>\n",
       "</table>\n",
       "</div>"
      ],
      "text/plain": [
       "   outgoing_txns  incoming_txns  total_eth_sent  avg_eth_sent  total_usd_sent  \\\n",
       "0      10.361570      22.392562      161.059923     52.558255    7.746708e+03   \n",
       "1     121.500000     160.000000     9569.473185     87.803106    2.666855e+06   \n",
       "2      82.333333      96.333333     2730.703323    281.996363    1.151438e+06   \n",
       "3      46.037037      39.888889     2574.344108    375.711012    3.801869e+05   \n",
       "\n",
       "   avg_usd_sent  total_eth_recd  avg_eth_recd  total_usd_recd  avg_usd_recd  \\\n",
       "0   1357.820364      174.954748     54.047638    8.178930e+03   1285.391505   \n",
       "1  22965.568096    10659.514167    164.827407    3.093587e+06  37136.460597   \n",
       "2  73786.656378     3758.957246    302.189377    1.371903e+06  70941.992260   \n",
       "3  57906.262745     2497.970805    486.071373    3.512081e+05  64693.819641   \n",
       "\n",
       "   active_months  monthly_outgoing_txns  monthly_incoming_txns  \\\n",
       "0      19.044421               1.158233               1.808766   \n",
       "1      13.000000              28.208333              17.437500   \n",
       "2       8.666667               6.444444               9.039683   \n",
       "3      15.814815              11.324100               5.864183   \n",
       "\n",
       "   monthly_eth_sent  monthly_usd_sent  monthly_eth_recd  monthly_usd_recd  \\\n",
       "0         10.081004       1319.870253         10.947566       1424.309850   \n",
       "1       3671.399741     782072.632722       3717.180382     800376.711789   \n",
       "2       1145.302104     301126.820887       2148.409251     513594.185328   \n",
       "3        233.346867      45676.311148        191.710082      36196.855149   \n",
       "\n",
       "   contracts_created  contract_txns_sent  \n",
       "0           0.133264        7.851240e-01  \n",
       "1           0.000000        0.000000e+00  \n",
       "2           0.000000       -1.110223e-16  \n",
       "3           0.000000       -2.220446e-16  "
      ]
     },
     "execution_count": 5,
     "metadata": {},
     "output_type": "execute_result"
    }
   ],
   "source": [
    "pd.DataFrame(centroids, columns=data.columns)"
   ]
  },
  {
   "cell_type": "code",
   "execution_count": null,
   "metadata": {},
   "outputs": [],
   "source": []
  },
  {
   "cell_type": "code",
   "execution_count": 6,
   "metadata": {},
   "outputs": [],
   "source": [
    "pipe = Pipeline([('scale', StandardScaler()), ('PCA', PCA(n_components=5))])"
   ]
  },
  {
   "cell_type": "code",
   "execution_count": 7,
   "metadata": {},
   "outputs": [],
   "source": [
    "results = pipe.fit_transform(data)"
   ]
  },
  {
   "cell_type": "code",
   "execution_count": 8,
   "metadata": {},
   "outputs": [],
   "source": [
    "pca = pipe.named_steps['PCA']"
   ]
  },
  {
   "cell_type": "code",
   "execution_count": 9,
   "metadata": {},
   "outputs": [
    {
     "data": {
      "text/plain": [
       "[<matplotlib.lines.Line2D at 0x7fb6082f7898>]"
      ]
     },
     "execution_count": 9,
     "metadata": {},
     "output_type": "execute_result"
    },
    {
     "data": {
      "image/png": "[encoded data removed]",
      "text/plain": [
       "<Figure size 432x288 with 1 Axes>"
      ]
     },
     "metadata": {},
     "output_type": "display_data"
    }
   ],
   "source": [
    "plt.plot(np.arange(pca.n_components_), pca.explained_variance_ratio_)"
   ]
  },
  {
   "cell_type": "code",
   "execution_count": 10,
   "metadata": {},
   "outputs": [
    {
     "data": {
      "text/plain": [
       "(1000, 5)"
      ]
     },
     "execution_count": 10,
     "metadata": {},
     "output_type": "execute_result"
    }
   ],
   "source": [
    "results.shape"
   ]
  },
  {
   "cell_type": "code",
   "execution_count": 11,
   "metadata": {},
   "outputs": [
    {
     "data": {
      "text/plain": [
       "<matplotlib.collections.PathCollection at 0x7fb60828e828>"
      ]
     },
     "execution_count": 11,
     "metadata": {},
     "output_type": "execute_result"
    },
    {
     "data": {
      "image/png": "[encoded data removed]",
      "text/plain": [
       "<Figure size 432x288 with 1 Axes>"
      ]
     },
     "metadata": {},
     "output_type": "display_data"
    }
   ],
   "source": [
    "plt.scatter(data.active_months, data.avg_usd_sent, c=cl.labels_)"
   ]
  },
  {
   "cell_type": "code",
   "execution_count": 12,
   "metadata": {},
   "outputs": [],
   "source": [
    "cl = cluster.KMeans().fit(results)"
   ]
  },
  {
   "cell_type": "code",
   "execution_count": 13,
   "metadata": {},
   "outputs": [
    {
     "data": {
      "text/plain": [
       "(-50, 150)"
      ]
     },
     "execution_count": 13,
     "metadata": {},
     "output_type": "execute_result"
    },
    {
     "data": {
      "image/png": "[encoded data removed]",
      "text/plain": [
       "<Figure size 432x288 with 1 Axes>"
      ]
     },
     "metadata": {},
     "output_type": "display_data"
    }
   ],
   "source": [
    "plt.scatter(results[:,0],results[:,1],c=cl.labels_, alpha=.1)\n",
    "plt.ylim(-50,50)\n",
    "plt.xlim(-50,150)"
   ]
  },
  {
   "cell_type": "code",
   "execution_count": 14,
   "metadata": {},
   "outputs": [
    {
     "data": {
      "text/plain": [
       "0.5093503844786752"
      ]
     },
     "execution_count": 14,
     "metadata": {},
     "output_type": "execute_result"
    }
   ],
   "source": [
    "silhouette_score(results, cl.labels_ )"
   ]
  },
  {
   "cell_type": "code",
   "execution_count": 15,
   "metadata": {},
   "outputs": [
    {
     "name": "stdout",
     "output_type": "stream",
     "text": [
      "For n_clusters = 4 The average silhouette_score is : 0.8523845351991673\n"
     ]
    },
    {
     "data": {
      "image/png": "[encoded data removed]",
      "text/plain": [
       "<Figure size 1296x504 with 2 Axes>"
      ]
     },
     "metadata": {},
     "output_type": "display_data"
    }
   ],
   "source": [
    "\n",
    "X=results\n",
    "\n",
    "\n",
    "\n",
    "\n",
    "\n",
    "range_n_clusters = [4]\n",
    "\n",
    "for n_clusters in range_n_clusters:\n",
    "#     X=data\n",
    "    # Create a subplot with 1 row and 2 columns\n",
    "    fig, (ax1, ax2) = plt.subplots(1, 2)\n",
    "    fig.set_size_inches(18, 7)\n",
    "\n",
    "    # The 1st subplot is the silhouette plot\n",
    "    # The silhouette coefficient can range from -1, 1 but in this example all\n",
    "    # lie within [-0.1, 1]\n",
    "    ax1.set_xlim([-0.1, 1])\n",
    "    # The (n_clusters+1)*10 is for inserting blank space between silhouette\n",
    "    # plots of individual clusters, to demarcate them clearly.\n",
    "    ax1.set_ylim([0, len(X) + (n_clusters + 1) * 10])\n",
    "\n",
    "    # Initialize the clusterer with n_clusters value and a random generator\n",
    "    # seed of 10 for reproducibility.\n",
    "    clusterer = KMeans(n_clusters=n_clusters, random_state=10)\n",
    "    cluster_labels = clusterer.fit_predict(X)\n",
    "\n",
    "    \n",
    "    \n",
    "    # The silhouette_score gives the average value for all the samples.\n",
    "    # This gives a perspective into the density and separation of the formed\n",
    "    # clusters\n",
    "    silhouette_avg = silhouette_score(X, cluster_labels)\n",
    "    print(\"For n_clusters =\", n_clusters,\n",
    "          \"The average silhouette_score is :\", silhouette_avg)\n",
    "\n",
    "    #subset data so I don't kill computer\n",
    "#     X=data[:100]\n",
    "#     cluster_labels[:100]\n",
    "    \n",
    "    # Compute the silhouette scores for each sample\n",
    "    sample_silhouette_values = silhouette_samples(X, cluster_labels)\n",
    "\n",
    "    y_lower = 10\n",
    "    for i in range(n_clusters):\n",
    "        # Aggregate the silhouette scores for samples belonging to\n",
    "        # cluster i, and sort them\n",
    "        ith_cluster_silhouette_values = \\\n",
    "            sample_silhouette_values[cluster_labels == i]\n",
    "\n",
    "        ith_cluster_silhouette_values.sort()\n",
    "\n",
    "        size_cluster_i = ith_cluster_silhouette_values.shape[0]\n",
    "        y_upper = y_lower + size_cluster_i\n",
    "\n",
    "        color = cm.nipy_spectral(float(i) / n_clusters)\n",
    "        ax1.fill_betweenx(np.arange(y_lower, y_upper),\n",
    "                          0, ith_cluster_silhouette_values,\n",
    "                          facecolor=color, edgecolor=color, alpha=0.7)\n",
    "\n",
    "        # Label the silhouette plots with their cluster numbers at the middle\n",
    "        ax1.text(-0.05, y_lower + 0.5 * size_cluster_i, str(i))\n",
    "\n",
    "        # Compute the new y_lower for next plot\n",
    "        y_lower = y_upper + 10  # 10 for the 0 samples\n",
    "\n",
    "    ax1.set_title(\"The silhouette plot for the various clusters.\")\n",
    "    ax1.set_xlabel(\"The silhouette coefficient values\")\n",
    "    ax1.set_ylabel(\"Cluster label\")\n",
    "\n",
    "    # The vertical line for average silhouette score of all the values\n",
    "    ax1.axvline(x=silhouette_avg, color=\"red\", linestyle=\"--\")\n",
    "\n",
    "    ax1.set_yticks([])  # Clear the yaxis labels / ticks\n",
    "    ax1.set_xticks([-0.1, 0, 0.2, 0.4, 0.6, 0.8, 1])\n",
    "\n",
    "    # 2nd Plot showing the actual clusters formed\n",
    "    colors = cm.nipy_spectral(cluster_labels.astype(float) / n_clusters)\n",
    "    ax2.scatter(X[:, 0], X[:, 1], marker='.', s=30, lw=0, alpha=0.7,\n",
    "                c=colors, edgecolor='k')\n",
    "\n",
    "    # Labeling the clusters\n",
    "    centers = clusterer.cluster_centers_\n",
    "    # Draw white circles at cluster centers\n",
    "    ax2.scatter(centers[:, 0], centers[:, 1], marker='o',\n",
    "                c=\"white\", alpha=1, s=200, edgecolor='k')\n",
    "\n",
    "    for i, c in enumerate(centers):\n",
    "        ax2.scatter(c[0], c[1], marker='$%d$' % i, alpha=1,\n",
    "                    s=50, edgecolor='k')\n",
    "\n",
    "    ax2.set_title(\"The visualization of the clustered data.\")\n",
    "    ax2.set_xlabel(\"Feature space for the 1st feature\")\n",
    "    ax2.set_ylabel(\"Feature space for the 2nd feature\")\n",
    "\n",
    "    plt.suptitle((\"Silhouette analysis for KMeans clustering on sample data \"\n",
    "                  \"with n_clusters = %d\" % n_clusters),\n",
    "                 fontsize=14, fontweight='bold')\n",
    "\n",
    "plt.show()"
   ]
  },
  {
   "cell_type": "code",
   "execution_count": 16,
   "metadata": {},
   "outputs": [
    {
     "data": {
      "text/plain": [
       "<Figure size 432x288 with 0 Axes>"
      ]
     },
     "metadata": {},
     "output_type": "display_data"
    }
   ],
   "source": [
    "%run kmedians.py"
   ]
  },
  {
   "cell_type": "code",
   "execution_count": 17,
   "metadata": {},
   "outputs": [],
   "source": [
    "k = 8\n",
    "\n",
    "#length of data\n",
    "datapoints = len(results)\n",
    "indices = [random.randint(0,datapoints-1) for i in range(k+1)]\n",
    "initial_centers = results[indices]\n",
    "\n",
    "km =  kmedians(results, initial_centers, ccore=False)\n",
    "\n"
   ]
  },
  {
   "cell_type": "code",
   "execution_count": 18,
   "metadata": {},
   "outputs": [],
   "source": [
    "km.process()\n",
    "clusters = km.get_clusters()"
   ]
  },
  {
   "cell_type": "code",
   "execution_count": 19,
   "metadata": {},
   "outputs": [],
   "source": [
    "clusters = np.array([np.array(x) for x in clusters])"
   ]
  },
  {
   "cell_type": "code",
   "execution_count": 20,
   "metadata": {},
   "outputs": [],
   "source": [
    "from mpl_toolkits.mplot3d import Axes3D"
   ]
  },
  {
   "cell_type": "code",
   "execution_count": 33,
   "metadata": {},
   "outputs": [
    {
     "data": {
      "application/vnd.jupyter.widget-view+json": {
       "model_id": "0eaa9d4c7f5a4cb0a7765b2f4e2bf30a",
       "version_major": 2,
       "version_minor": 0
      },
      "text/plain": [
       "FigureCanvasNbAgg()"
      ]
     },
     "metadata": {},
     "output_type": "display_data"
    }
   ],
   "source": [
    "%matplotlib widget\n",
    "fig = plt.figure(figsize=(18,8))\n",
    "ax = fig.add_subplot(111, projection='3d')\n",
    "for i in range(k):\n",
    "    ax.scatter(results[clusters[i]][:,0],\n",
    "               results[clusters[i]][:,1],\n",
    "               results[clusters[i]][:,2], alpha=.5)\n",
    "\n",
    "# ax.set_xlim(-.1,-.05)\n",
    "# ax.set_ylim(-.3,.3)\n",
    "# ax.set_zlim(-50,25)"
   ]
  },
  {
   "cell_type": "code",
   "execution_count": 22,
   "metadata": {},
   "outputs": [
    {
     "data": {
      "text/plain": [
       "(5, 19)"
      ]
     },
     "execution_count": 22,
     "metadata": {},
     "output_type": "execute_result"
    }
   ],
   "source": [
    "pca.components_.shape"
   ]
  },
  {
   "cell_type": "code",
   "execution_count": 23,
   "metadata": {},
   "outputs": [],
   "source": [
    "unitvectors = np.diagflat(np.ones(19))"
   ]
  },
  {
   "cell_type": "code",
   "execution_count": 24,
   "metadata": {},
   "outputs": [],
   "source": [
    "trans = pca.transform(unitvectors)"
   ]
  },
  {
   "cell_type": "code",
   "execution_count": 25,
   "metadata": {},
   "outputs": [],
   "source": [
    "pts = []\n",
    "for i in range(19):\n",
    "    pts.append(trans[i][:4])\n",
    "pts = np.array(pts)"
   ]
  },
  {
   "cell_type": "code",
   "execution_count": 26,
   "metadata": {},
   "outputs": [],
   "source": [
    "names = data.columns.values"
   ]
  },
  {
   "cell_type": "code",
   "execution_count": null,
   "metadata": {},
   "outputs": [],
   "source": []
  },
  {
   "cell_type": "code",
   "execution_count": 31,
   "metadata": {},
   "outputs": [
    {
     "data": {
      "application/vnd.jupyter.widget-view+json": {
       "model_id": "",
       "version_major": 2,
       "version_minor": 0
      },
      "text/plain": [
       "FigureCanvasNbAgg()"
      ]
     },
     "metadata": {},
     "output_type": "display_data"
    },
    {
     "data": {
      "text/plain": [
       "<matplotlib.legend.Legend at 0x7fb6081f2160>"
      ]
     },
     "execution_count": 31,
     "metadata": {},
     "output_type": "execute_result"
    }
   ],
   "source": [
    "%matplotlib widget\n",
    "fig = plt.figure(figsize=(12,8))\n",
    "ax = fig.add_subplot(111, projection='3d')\n",
    "\n",
    "for i, pt in enumerate(pts):\n",
    "    lbl = names[i]\n",
    "    if 'total_usd' in lbl:\n",
    "        color='green'\n",
    "    elif 'total_eth' in lbl:\n",
    "        color='blue'\n",
    "    elif 'avg' in lbl:\n",
    "        color='black'\n",
    "    elif 'outgoing' in lbl:\n",
    "        color='magenta'\n",
    "    elif 'incoming' in lbl:\n",
    "        color='orange'\n",
    "    elif 'monthly_eth' in lbl:\n",
    "        color='purple'\n",
    "    elif 'monthly_usd' in lbl:\n",
    "        color='yellow'\n",
    "    elif 'active_months' in lbl:\n",
    "        color='cyan'\n",
    "    else:\n",
    "        color='pink'\n",
    "        \n",
    "    ax.plot([0,pt[0]], [0,pt[1]], [0,pt[2]], label= lbl, c=color )\n",
    "ax.legend()\n"
   ]
  },
  {
   "cell_type": "code",
   "execution_count": null,
   "metadata": {},
   "outputs": [],
   "source": []
  },
  {
   "cell_type": "code",
   "execution_count": null,
   "metadata": {},
   "outputs": [],
   "source": []
  },
  {
   "cell_type": "code",
   "execution_count": null,
   "metadata": {},
   "outputs": [],
   "source": []
  },
  {
   "cell_type": "code",
   "execution_count": null,
   "metadata": {},
   "outputs": [],
   "source": []
  },
  {
   "cell_type": "code",
   "execution_count": null,
   "metadata": {},
   "outputs": [],
   "source": []
  },
  {
   "cell_type": "code",
   "execution_count": null,
   "metadata": {},
   "outputs": [],
   "source": []
  }
 ],
 "metadata": {
  "kernelspec": {
   "display_name": "Python 3",
   "language": "python",
   "name": "python3"
  },
  "language_info": {
   "codemirror_mode": {
    "name": "ipython",
    "version": 3
   },
   "file_extension": ".py",
   "mimetype": "text/x-python",
   "name": "python",
   "nbconvert_exporter": "python",
   "pygments_lexer": "ipython3",
   "version": "3.6.5"
  }
 },
 "nbformat": 4,
 "nbformat_minor": 2
}
