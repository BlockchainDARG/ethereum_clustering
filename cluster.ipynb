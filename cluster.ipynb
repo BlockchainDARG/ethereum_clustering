{
 "cells": [
  {
   "cell_type": "code",
   "execution_count": 33,
   "metadata": {},
   "outputs": [
    {
     "name": "stdout",
     "output_type": "stream",
     "text": [
      "The google.cloud.bigquery extension is already loaded. To reload it, use:\n",
      "  %reload_ext google.cloud.bigquery\n"
     ]
    }
   ],
   "source": [
    "%load_ext google.cloud.bigquery\n",
    "%matplotlib inline\n",
    "from google.cloud import bigquery\n",
    "client = bigquery.Client()\n",
    "import matplotlib.pyplot as plt\n",
    "import numpy as np\n",
    "import pandas as pd\n",
    "from sklearn import cluster\n",
    "from sklearn.metrics import silhouette_score, silhouette_samples\n",
    "from sklearn.preprocessing import StandardScaler\n",
    "from sklearn.decomposition import PCA\n",
    "from sklearn.pipeline import Pipeline\n",
    "import random\n",
    "from sklearn.cluster import KMeans\n",
    "import matplotlib.cm as cm"
   ]
  },
  {
   "cell_type": "code",
   "execution_count": 96,
   "metadata": {},
   "outputs": [
    {
     "data": {
      "text/html": [
       "<div>\n",
       "<style scoped>\n",
       "    .dataframe tbody tr th:only-of-type {\n",
       "        vertical-align: middle;\n",
       "    }\n",
       "\n",
       "    .dataframe tbody tr th {\n",
       "        vertical-align: top;\n",
       "    }\n",
       "\n",
       "    .dataframe thead th {\n",
       "        text-align: right;\n",
       "    }\n",
       "</style>\n",
       "<table border=\"1\" class=\"dataframe\">\n",
       "  <thead>\n",
       "    <tr style=\"text-align: right;\">\n",
       "      <th></th>\n",
       "      <th>address</th>\n",
       "      <th>outgoing_txns</th>\n",
       "      <th>incoming_txns</th>\n",
       "      <th>total_eth_sent</th>\n",
       "      <th>avg_eth_sent</th>\n",
       "      <th>total_usd_sent</th>\n",
       "      <th>avg_usd_sent</th>\n",
       "      <th>total_eth_recd</th>\n",
       "      <th>avg_eth_recd</th>\n",
       "      <th>total_usd_recd</th>\n",
       "      <th>avg_usd_recd</th>\n",
       "      <th>active_months</th>\n",
       "      <th>monthly_outgoing_txns</th>\n",
       "      <th>monthly_incoming_txns</th>\n",
       "      <th>monthly_eth_sent</th>\n",
       "      <th>monthly_usd_sent</th>\n",
       "      <th>monthly_eth_recd</th>\n",
       "      <th>monthly_usd_recd</th>\n",
       "      <th>contracts_created</th>\n",
       "      <th>contract_txns_sent</th>\n",
       "    </tr>\n",
       "  </thead>\n",
       "  <tbody>\n",
       "    <tr>\n",
       "      <th>0</th>\n",
       "      <td>0xad391f88dfd96ce4c73accf2556ebbddb74e85f1</td>\n",
       "      <td>0</td>\n",
       "      <td>2</td>\n",
       "      <td>0</td>\n",
       "      <td>0</td>\n",
       "      <td>0.0</td>\n",
       "      <td>0.0</td>\n",
       "      <td>0.199299999</td>\n",
       "      <td>0.09965</td>\n",
       "      <td>39.606889</td>\n",
       "      <td>19.803444</td>\n",
       "      <td>1</td>\n",
       "      <td>0.0</td>\n",
       "      <td>2.0</td>\n",
       "      <td>0</td>\n",
       "      <td>0.0</td>\n",
       "      <td>0.199299999</td>\n",
       "      <td>39.606889</td>\n",
       "      <td>0</td>\n",
       "      <td>0</td>\n",
       "    </tr>\n",
       "    <tr>\n",
       "      <th>1</th>\n",
       "      <td>0x0751267744307eec7d34a0e6896cf59336cbc8fc</td>\n",
       "      <td>0</td>\n",
       "      <td>2</td>\n",
       "      <td>0</td>\n",
       "      <td>0</td>\n",
       "      <td>0.0</td>\n",
       "      <td>0.0</td>\n",
       "      <td>200.003</td>\n",
       "      <td>100.0015</td>\n",
       "      <td>41940.629100</td>\n",
       "      <td>20970.314550</td>\n",
       "      <td>1</td>\n",
       "      <td>0.0</td>\n",
       "      <td>2.0</td>\n",
       "      <td>0</td>\n",
       "      <td>0.0</td>\n",
       "      <td>200.003</td>\n",
       "      <td>41940.629100</td>\n",
       "      <td>0</td>\n",
       "      <td>0</td>\n",
       "    </tr>\n",
       "    <tr>\n",
       "      <th>2</th>\n",
       "      <td>0x97f602f85bfa67c4e4bc02965c55703bb6323b1d</td>\n",
       "      <td>0</td>\n",
       "      <td>2</td>\n",
       "      <td>0</td>\n",
       "      <td>0</td>\n",
       "      <td>0.0</td>\n",
       "      <td>0.0</td>\n",
       "      <td>0.022259136</td>\n",
       "      <td>0.011129568</td>\n",
       "      <td>4.474532</td>\n",
       "      <td>2.237266</td>\n",
       "      <td>1</td>\n",
       "      <td>0.0</td>\n",
       "      <td>2.0</td>\n",
       "      <td>0</td>\n",
       "      <td>0.0</td>\n",
       "      <td>0.022259136</td>\n",
       "      <td>4.474532</td>\n",
       "      <td>0</td>\n",
       "      <td>0</td>\n",
       "    </tr>\n",
       "    <tr>\n",
       "      <th>3</th>\n",
       "      <td>0x61def97d552b046ccd1f2d2cdef848524d7a8399</td>\n",
       "      <td>0</td>\n",
       "      <td>2</td>\n",
       "      <td>0</td>\n",
       "      <td>0</td>\n",
       "      <td>0.0</td>\n",
       "      <td>0.0</td>\n",
       "      <td>0.00084</td>\n",
       "      <td>0.00042</td>\n",
       "      <td>0.177912</td>\n",
       "      <td>0.088956</td>\n",
       "      <td>1</td>\n",
       "      <td>0.0</td>\n",
       "      <td>2.0</td>\n",
       "      <td>0</td>\n",
       "      <td>0.0</td>\n",
       "      <td>0.00084</td>\n",
       "      <td>0.177912</td>\n",
       "      <td>0</td>\n",
       "      <td>0</td>\n",
       "    </tr>\n",
       "    <tr>\n",
       "      <th>4</th>\n",
       "      <td>0x896a69e834e72cf33f07a83137835a303a0e2d97</td>\n",
       "      <td>0</td>\n",
       "      <td>2</td>\n",
       "      <td>0</td>\n",
       "      <td>0</td>\n",
       "      <td>0.0</td>\n",
       "      <td>0.0</td>\n",
       "      <td>4.93814</td>\n",
       "      <td>2.46907</td>\n",
       "      <td>1046.391866</td>\n",
       "      <td>523.195933</td>\n",
       "      <td>1</td>\n",
       "      <td>0.0</td>\n",
       "      <td>2.0</td>\n",
       "      <td>0</td>\n",
       "      <td>0.0</td>\n",
       "      <td>4.93814</td>\n",
       "      <td>1046.391866</td>\n",
       "      <td>0</td>\n",
       "      <td>0</td>\n",
       "    </tr>\n",
       "  </tbody>\n",
       "</table>\n",
       "</div>"
      ],
      "text/plain": [
       "                                      address  outgoing_txns  incoming_txns  \\\n",
       "0  0xad391f88dfd96ce4c73accf2556ebbddb74e85f1              0              2   \n",
       "1  0x0751267744307eec7d34a0e6896cf59336cbc8fc              0              2   \n",
       "2  0x97f602f85bfa67c4e4bc02965c55703bb6323b1d              0              2   \n",
       "3  0x61def97d552b046ccd1f2d2cdef848524d7a8399              0              2   \n",
       "4  0x896a69e834e72cf33f07a83137835a303a0e2d97              0              2   \n",
       "\n",
       "  total_eth_sent avg_eth_sent  total_usd_sent  avg_usd_sent total_eth_recd  \\\n",
       "0              0            0             0.0           0.0    0.199299999   \n",
       "1              0            0             0.0           0.0        200.003   \n",
       "2              0            0             0.0           0.0    0.022259136   \n",
       "3              0            0             0.0           0.0        0.00084   \n",
       "4              0            0             0.0           0.0        4.93814   \n",
       "\n",
       "  avg_eth_recd  total_usd_recd  avg_usd_recd  active_months  \\\n",
       "0      0.09965       39.606889     19.803444              1   \n",
       "1     100.0015    41940.629100  20970.314550              1   \n",
       "2  0.011129568        4.474532      2.237266              1   \n",
       "3      0.00042        0.177912      0.088956              1   \n",
       "4      2.46907     1046.391866    523.195933              1   \n",
       "\n",
       "   monthly_outgoing_txns  monthly_incoming_txns monthly_eth_sent  \\\n",
       "0                    0.0                    2.0                0   \n",
       "1                    0.0                    2.0                0   \n",
       "2                    0.0                    2.0                0   \n",
       "3                    0.0                    2.0                0   \n",
       "4                    0.0                    2.0                0   \n",
       "\n",
       "   monthly_usd_sent monthly_eth_recd  monthly_usd_recd  contracts_created  \\\n",
       "0               0.0      0.199299999         39.606889                  0   \n",
       "1               0.0          200.003      41940.629100                  0   \n",
       "2               0.0      0.022259136          4.474532                  0   \n",
       "3               0.0          0.00084          0.177912                  0   \n",
       "4               0.0          4.93814       1046.391866                  0   \n",
       "\n",
       "   contract_txns_sent  \n",
       "0                   0  \n",
       "1                   0  \n",
       "2                   0  \n",
       "3                   0  \n",
       "4                   0  "
      ]
     },
     "execution_count": 96,
     "metadata": {},
     "output_type": "execute_result"
    }
   ],
   "source": [
    "sql = '''\n",
    "SELECT *  FROM `eth-tokens.alldata.toy` LIMIT 5000\n",
    "'''\n",
    "\n",
    "df = client.query(sql).to_dataframe()\n",
    "df.head()"
   ]
  },
  {
   "cell_type": "code",
   "execution_count": 97,
   "metadata": {},
   "outputs": [],
   "source": [
    "data = df.iloc[:,1:]\n"
   ]
  },
  {
   "cell_type": "code",
   "execution_count": 4,
   "metadata": {},
   "outputs": [],
   "source": [
    "cl = cluster.KMeans(4)\n",
    "\n",
    "fit_cl = cl.fit(data)\n",
    "\n",
    "centroids = fit_cl.cluster_centers_"
   ]
  },
  {
   "cell_type": "code",
   "execution_count": 5,
   "metadata": {},
   "outputs": [
    {
     "data": {
      "text/html": [
       "<div>\n",
       "<style scoped>\n",
       "    .dataframe tbody tr th:only-of-type {\n",
       "        vertical-align: middle;\n",
       "    }\n",
       "\n",
       "    .dataframe tbody tr th {\n",
       "        vertical-align: top;\n",
       "    }\n",
       "\n",
       "    .dataframe thead th {\n",
       "        text-align: right;\n",
       "    }\n",
       "</style>\n",
       "<table border=\"1\" class=\"dataframe\">\n",
       "  <thead>\n",
       "    <tr style=\"text-align: right;\">\n",
       "      <th></th>\n",
       "      <th>outgoing_txns</th>\n",
       "      <th>incoming_txns</th>\n",
       "      <th>total_eth_sent</th>\n",
       "      <th>avg_eth_sent</th>\n",
       "      <th>total_usd_sent</th>\n",
       "      <th>avg_usd_sent</th>\n",
       "      <th>total_eth_recd</th>\n",
       "      <th>avg_eth_recd</th>\n",
       "      <th>total_usd_recd</th>\n",
       "      <th>avg_usd_recd</th>\n",
       "      <th>active_months</th>\n",
       "      <th>monthly_outgoing_txns</th>\n",
       "      <th>monthly_incoming_txns</th>\n",
       "      <th>monthly_eth_sent</th>\n",
       "      <th>monthly_usd_sent</th>\n",
       "      <th>monthly_eth_recd</th>\n",
       "      <th>monthly_usd_recd</th>\n",
       "      <th>contracts_created</th>\n",
       "      <th>contract_txns_sent</th>\n",
       "    </tr>\n",
       "  </thead>\n",
       "  <tbody>\n",
       "    <tr>\n",
       "      <th>0</th>\n",
       "      <td>4.576531</td>\n",
       "      <td>9.017347</td>\n",
       "      <td>16.605753</td>\n",
       "      <td>6.096568</td>\n",
       "      <td>4.362263e+03</td>\n",
       "      <td>1279.183199</td>\n",
       "      <td>20.260689</td>\n",
       "      <td>7.122202</td>\n",
       "      <td>5.421242e+03</td>\n",
       "      <td>1543.611542</td>\n",
       "      <td>12.369388</td>\n",
       "      <td>0.843418</td>\n",
       "      <td>1.505198</td>\n",
       "      <td>3.721000</td>\n",
       "      <td>905.500940</td>\n",
       "      <td>5.258048</td>\n",
       "      <td>1269.006645</td>\n",
       "      <td>0.005102</td>\n",
       "      <td>0.172449</td>\n",
       "    </tr>\n",
       "    <tr>\n",
       "      <th>1</th>\n",
       "      <td>39.000000</td>\n",
       "      <td>81.000000</td>\n",
       "      <td>13111.767273</td>\n",
       "      <td>336.199161</td>\n",
       "      <td>4.485804e+06</td>\n",
       "      <td>115020.603355</td>\n",
       "      <td>13111.803744</td>\n",
       "      <td>161.874120</td>\n",
       "      <td>4.477259e+06</td>\n",
       "      <td>55274.797131</td>\n",
       "      <td>18.000000</td>\n",
       "      <td>2.166667</td>\n",
       "      <td>4.500000</td>\n",
       "      <td>728.431515</td>\n",
       "      <td>249211.307268</td>\n",
       "      <td>728.433541</td>\n",
       "      <td>248736.587088</td>\n",
       "      <td>0.000000</td>\n",
       "      <td>0.000000</td>\n",
       "    </tr>\n",
       "    <tr>\n",
       "      <th>2</th>\n",
       "      <td>15.600000</td>\n",
       "      <td>29.266667</td>\n",
       "      <td>961.036016</td>\n",
       "      <td>266.139333</td>\n",
       "      <td>3.567146e+05</td>\n",
       "      <td>86050.627669</td>\n",
       "      <td>1066.036620</td>\n",
       "      <td>434.237538</td>\n",
       "      <td>4.145517e+05</td>\n",
       "      <td>132541.731462</td>\n",
       "      <td>13.466667</td>\n",
       "      <td>1.661273</td>\n",
       "      <td>2.870833</td>\n",
       "      <td>90.301936</td>\n",
       "      <td>32297.015298</td>\n",
       "      <td>96.999840</td>\n",
       "      <td>36085.947368</td>\n",
       "      <td>0.000000</td>\n",
       "      <td>0.000000</td>\n",
       "    </tr>\n",
       "    <tr>\n",
       "      <th>3</th>\n",
       "      <td>31.000000</td>\n",
       "      <td>84.750000</td>\n",
       "      <td>1585.207731</td>\n",
       "      <td>36.402691</td>\n",
       "      <td>5.736532e+05</td>\n",
       "      <td>15511.880117</td>\n",
       "      <td>2714.712020</td>\n",
       "      <td>36.769162</td>\n",
       "      <td>1.384328e+06</td>\n",
       "      <td>21390.850098</td>\n",
       "      <td>12.250000</td>\n",
       "      <td>3.228125</td>\n",
       "      <td>8.250000</td>\n",
       "      <td>218.083760</td>\n",
       "      <td>68991.367019</td>\n",
       "      <td>305.109861</td>\n",
       "      <td>130213.055800</td>\n",
       "      <td>0.000000</td>\n",
       "      <td>0.000000</td>\n",
       "    </tr>\n",
       "  </tbody>\n",
       "</table>\n",
       "</div>"
      ],
      "text/plain": [
       "   outgoing_txns  incoming_txns  total_eth_sent  avg_eth_sent  total_usd_sent  \\\n",
       "0       4.576531       9.017347       16.605753      6.096568    4.362263e+03   \n",
       "1      39.000000      81.000000    13111.767273    336.199161    4.485804e+06   \n",
       "2      15.600000      29.266667      961.036016    266.139333    3.567146e+05   \n",
       "3      31.000000      84.750000     1585.207731     36.402691    5.736532e+05   \n",
       "\n",
       "    avg_usd_sent  total_eth_recd  avg_eth_recd  total_usd_recd   avg_usd_recd  \\\n",
       "0    1279.183199       20.260689      7.122202    5.421242e+03    1543.611542   \n",
       "1  115020.603355    13111.803744    161.874120    4.477259e+06   55274.797131   \n",
       "2   86050.627669     1066.036620    434.237538    4.145517e+05  132541.731462   \n",
       "3   15511.880117     2714.712020     36.769162    1.384328e+06   21390.850098   \n",
       "\n",
       "   active_months  monthly_outgoing_txns  monthly_incoming_txns  \\\n",
       "0      12.369388               0.843418               1.505198   \n",
       "1      18.000000               2.166667               4.500000   \n",
       "2      13.466667               1.661273               2.870833   \n",
       "3      12.250000               3.228125               8.250000   \n",
       "\n",
       "   monthly_eth_sent  monthly_usd_sent  monthly_eth_recd  monthly_usd_recd  \\\n",
       "0          3.721000        905.500940          5.258048       1269.006645   \n",
       "1        728.431515     249211.307268        728.433541     248736.587088   \n",
       "2         90.301936      32297.015298         96.999840      36085.947368   \n",
       "3        218.083760      68991.367019        305.109861     130213.055800   \n",
       "\n",
       "   contracts_created  contract_txns_sent  \n",
       "0           0.005102            0.172449  \n",
       "1           0.000000            0.000000  \n",
       "2           0.000000            0.000000  \n",
       "3           0.000000            0.000000  "
      ]
     },
     "execution_count": 5,
     "metadata": {},
     "output_type": "execute_result"
    }
   ],
   "source": [
    "pd.DataFrame(centroids, columns=data.columns)"
   ]
  },
  {
   "cell_type": "code",
   "execution_count": null,
   "metadata": {},
   "outputs": [],
   "source": []
  },
  {
   "cell_type": "code",
   "execution_count": 6,
   "metadata": {},
   "outputs": [],
   "source": [
    "pipe = Pipeline([('scale', StandardScaler()), ('PCA', PCA(n_components=5))])"
   ]
  },
  {
   "cell_type": "code",
   "execution_count": 7,
   "metadata": {},
   "outputs": [
    {
     "data": {
      "text/plain": [
       "Pipeline(memory=None,\n",
       "     steps=[('scale', StandardScaler(copy=True, with_mean=True, with_std=True)), ('PCA', PCA(copy=True, iterated_power='auto', n_components=5, random_state=None,\n",
       "  svd_solver='auto', tol=0.0, whiten=False))])"
      ]
     },
     "execution_count": 7,
     "metadata": {},
     "output_type": "execute_result"
    }
   ],
   "source": [
    "pipe.fit(data)"
   ]
  },
  {
   "cell_type": "code",
   "execution_count": 8,
   "metadata": {},
   "outputs": [],
   "source": [
    "results = pipe.fit_transform(data)"
   ]
  },
  {
   "cell_type": "code",
   "execution_count": 9,
   "metadata": {},
   "outputs": [],
   "source": [
    "pca = pipe.named_steps['PCA']"
   ]
  },
  {
   "cell_type": "code",
   "execution_count": 10,
   "metadata": {},
   "outputs": [
    {
     "data": {
      "text/plain": [
       "[<matplotlib.lines.Line2D at 0x1a0f153f28>]"
      ]
     },
     "execution_count": 10,
     "metadata": {},
     "output_type": "execute_result"
    },
    {
     "data": {
      "image/png": "[encoded data removed]",
      "text/plain": [
       "<Figure size 432x288 with 1 Axes>"
      ]
     },
     "metadata": {},
     "output_type": "display_data"
    }
   ],
   "source": [
    "plt.plot(np.arange(pca.n_components_), pca.explained_variance_ratio_)"
   ]
  },
  {
   "cell_type": "code",
   "execution_count": 11,
   "metadata": {},
   "outputs": [
    {
     "data": {
      "text/plain": [
       "(1000, 5)"
      ]
     },
     "execution_count": 11,
     "metadata": {},
     "output_type": "execute_result"
    }
   ],
   "source": [
    "results.shape"
   ]
  },
  {
   "cell_type": "code",
   "execution_count": 12,
   "metadata": {},
   "outputs": [
    {
     "data": {
      "text/plain": [
       "<matplotlib.collections.PathCollection at 0x1a0fafddd8>"
      ]
     },
     "execution_count": 12,
     "metadata": {},
     "output_type": "execute_result"
    },
    {
     "data": {
      "image/png": "[encoded data removed]",
      "text/plain": [
       "<Figure size 432x288 with 1 Axes>"
      ]
     },
     "metadata": {},
     "output_type": "display_data"
    }
   ],
   "source": [
    "plt.scatter(data.active_months, data.avg_usd_sent, c=cl.labels_)"
   ]
  },
  {
   "cell_type": "code",
   "execution_count": 13,
   "metadata": {},
   "outputs": [],
   "source": [
    "cl = cluster.KMeans().fit(results)"
   ]
  },
  {
   "cell_type": "code",
   "execution_count": 14,
   "metadata": {},
   "outputs": [
    {
     "data": {
      "text/plain": [
       "<matplotlib.collections.PathCollection at 0x1a0fb74160>"
      ]
     },
     "execution_count": 14,
     "metadata": {},
     "output_type": "execute_result"
    },
    {
     "data": {
      "image/png": "[encoded data removed]",
      "text/plain": [
       "<Figure size 432x288 with 1 Axes>"
      ]
     },
     "metadata": {},
     "output_type": "display_data"
    }
   ],
   "source": [
    "plt.scatter(results[:,0],results[:,1],c=cl.labels_)\n",
    "# plt.ylim(-50,50)\n",
    "# plt.xlim(-50,150)"
   ]
  },
  {
   "cell_type": "code",
   "execution_count": 15,
   "metadata": {},
   "outputs": [
    {
     "data": {
      "text/plain": [
       "0.6389653568573185"
      ]
     },
     "execution_count": 15,
     "metadata": {},
     "output_type": "execute_result"
    }
   ],
   "source": [
    "silhouette_score(results, cl.labels_ )"
   ]
  },
  {
   "cell_type": "code",
   "execution_count": 16,
   "metadata": {},
   "outputs": [
    {
     "name": "stderr",
     "output_type": "stream",
     "text": [
      "/Users/will/anaconda3/lib/python3.6/site-packages/sklearn/utils/validation.py:475: DataConversionWarning: Data with input dtype object was converted to float64 by StandardScaler.\n",
      "  warnings.warn(msg, DataConversionWarning)\n"
     ]
    }
   ],
   "source": [
    "pipe = Pipeline([('scale', StandardScaler()), ('PCA', PCA(n_components=5))])\n",
    "\n",
    "results = pipe.fit_transform(data.values)"
   ]
  },
  {
   "cell_type": "code",
   "execution_count": 94,
   "metadata": {},
   "outputs": [
    {
     "name": "stdout",
     "output_type": "stream",
     "text": [
      "For n_clusters = 6 The average silhouette_score is : 0.6986060169667051\n"
     ]
    },
    {
     "data": {
      "image/png": "[encoded data removed]",
      "text/plain": [
       "<Figure size 1296x504 with 2 Axes>"
      ]
     },
     "metadata": {},
     "output_type": "display_data"
    }
   ],
   "source": [
    "\n",
    "X=results\n",
    "\n",
    "\n",
    "\n",
    "\n",
    "\n",
    "range_n_clusters = [6]\n",
    "\n",
    "for n_clusters in range_n_clusters:\n",
    "#     X=data\n",
    "    # Create a subplot with 1 row and 2 columns\n",
    "    fig, (ax1, ax2) = plt.subplots(1, 2)\n",
    "    fig.set_size_inches(18, 7)\n",
    "\n",
    "    # The 1st subplot is the silhouette plot\n",
    "    # The silhouette coefficient can range from -1, 1 but in this example all\n",
    "    # lie within [-0.1, 1]\n",
    "    ax1.set_xlim([-0.1, 1])\n",
    "    # The (n_clusters+1)*10 is for inserting blank space between silhouette\n",
    "    # plots of individual clusters, to demarcate them clearly.\n",
    "    ax1.set_ylim([0, len(X) + (n_clusters + 1) * 10])\n",
    "\n",
    "    # Initialize the clusterer with n_clusters value and a random generator\n",
    "    # seed of 10 for reproducibility.\n",
    "    clusterer = KMeans(n_clusters=n_clusters, random_state=10)\n",
    "    cluster_labels = clusterer.fit_predict(X)\n",
    "\n",
    "    \n",
    "    \n",
    "    # The silhouette_score gives the average value for all the samples.\n",
    "    # This gives a perspective into the density and separation of the formed\n",
    "    # clusters\n",
    "    silhouette_avg = silhouette_score(X, cluster_labels)\n",
    "    print(\"For n_clusters =\", n_clusters,\n",
    "          \"The average silhouette_score is :\", silhouette_avg)\n",
    "\n",
    "    #subset data so I don't kill computer\n",
    "#     X=data[:100]\n",
    "#     cluster_labels[:100]\n",
    "    \n",
    "    # Compute the silhouette scores for each sample\n",
    "    sample_silhouette_values = silhouette_samples(X, cluster_labels)\n",
    "\n",
    "    y_lower = 10\n",
    "    for i in range(n_clusters):\n",
    "        # Aggregate the silhouette scores for samples belonging to\n",
    "        # cluster i, and sort them\n",
    "        ith_cluster_silhouette_values = \\\n",
    "            sample_silhouette_values[cluster_labels == i]\n",
    "\n",
    "        ith_cluster_silhouette_values.sort()\n",
    "\n",
    "        size_cluster_i = ith_cluster_silhouette_values.shape[0]\n",
    "        y_upper = y_lower + size_cluster_i\n",
    "\n",
    "        color = cm.nipy_spectral(float(i) / n_clusters)\n",
    "        ax1.fill_betweenx(np.arange(y_lower, y_upper),\n",
    "                          0, ith_cluster_silhouette_values,\n",
    "                          facecolor=color, edgecolor=color, alpha=0.7)\n",
    "\n",
    "        # Label the silhouette plots with their cluster numbers at the middle\n",
    "        ax1.text(-0.05, y_lower + 0.5 * size_cluster_i, str(i))\n",
    "\n",
    "        # Compute the new y_lower for next plot\n",
    "        y_lower = y_upper + 10  # 10 for the 0 samples\n",
    "\n",
    "    ax1.set_title(\"The silhouette plot for the various clusters.\")\n",
    "    ax1.set_xlabel(\"The silhouette coefficient values\")\n",
    "    ax1.set_ylabel(\"Cluster label\")\n",
    "\n",
    "    # The vertical line for average silhouette score of all the values\n",
    "    ax1.axvline(x=silhouette_avg, color=\"red\", linestyle=\"--\")\n",
    "\n",
    "    ax1.set_yticks([])  # Clear the yaxis labels / ticks\n",
    "    ax1.set_xticks([-0.1, 0, 0.2, 0.4, 0.6, 0.8, 1])\n",
    "\n",
    "    # 2nd Plot showing the actual clusters formed\n",
    "    colors = cm.nipy_spectral(cluster_labels.astype(float) / n_clusters)\n",
    "    ax2.scatter(X[:, 0], X[:, 1], marker='.', s=30, lw=0, alpha=0.7,\n",
    "                c=colors, edgecolor='k')\n",
    "\n",
    "    # Labeling the clusters\n",
    "    centers = clusterer.cluster_centers_\n",
    "    # Draw white circles at cluster centers\n",
    "    ax2.scatter(centers[:, 0], centers[:, 1], marker='o',\n",
    "                c=\"white\", alpha=1, s=200, edgecolor='k')\n",
    "\n",
    "    for i, c in enumerate(centers):\n",
    "        ax2.scatter(c[0], c[1], marker='$%d$' % i, alpha=1,\n",
    "                    s=50, edgecolor='k')\n",
    "\n",
    "    ax2.set_title(\"The visualization of the clustered data.\")\n",
    "    ax2.set_xlabel(\"Feature space for the 1st feature\")\n",
    "    ax2.set_ylabel(\"Feature space for the 2nd feature\")\n",
    "\n",
    "    plt.suptitle((\"Silhouette analysis for KMeans clustering on sample data \"\n",
    "                  \"with n_clusters = %d\" % n_clusters),\n",
    "                 fontsize=14, fontweight='bold')\n",
    "\n",
    "plt.show()"
   ]
  },
  {
   "cell_type": "code",
   "execution_count": 19,
   "metadata": {},
   "outputs": [],
   "source": [
    "%run kmedians.py"
   ]
  },
  {
   "cell_type": "code",
   "execution_count": 98,
   "metadata": {},
   "outputs": [],
   "source": [
    "k = 6\n",
    "\n",
    "#length of data\n",
    "datapoints = len(results)\n",
    "indices = [random.randint(0,datapoints-1) for i in range(k+1)]\n",
    "initial_centers = results[indices]\n",
    "\n",
    "km =  kmedians(results, initial_centers, ccore=False)\n",
    "\n"
   ]
  },
  {
   "cell_type": "code",
   "execution_count": 99,
   "metadata": {},
   "outputs": [],
   "source": [
    "km.process()\n",
    "clusters = km.get_clusters()"
   ]
  },
  {
   "cell_type": "code",
   "execution_count": 100,
   "metadata": {},
   "outputs": [],
   "source": [
    "clusters = np.array([np.array(x) for x in clusters])"
   ]
  },
  {
   "cell_type": "code",
   "execution_count": 103,
   "metadata": {},
   "outputs": [
    {
     "data": {
      "text/plain": [
       "(-1, 1)"
      ]
     },
     "execution_count": 103,
     "metadata": {},
     "output_type": "execute_result"
    },
    {
     "data": {
      "image/png": "[encoded data removed]",
      "text/plain": [
       "<Figure size 432x288 with 1 Axes>"
      ]
     },
     "metadata": {},
     "output_type": "display_data"
    }
   ],
   "source": [
    "for i in range(k):\n",
    "    plt.scatter(results[clusters[i]][:,0], results[clusters[i]][:,1], alpha=.3)\n",
    "    \n",
    "plt.xlim(-1,1)"
   ]
  },
  {
   "cell_type": "code",
   "execution_count": null,
   "metadata": {},
   "outputs": [],
   "source": []
  }
 ],
 "metadata": {
  "kernelspec": {
   "display_name": "Python 3",
   "language": "python",
   "name": "python3"
  },
  "language_info": {
   "codemirror_mode": {
    "name": "ipython",
    "version": 3
   },
   "file_extension": ".py",
   "mimetype": "text/x-python",
   "name": "python",
   "nbconvert_exporter": "python",
   "pygments_lexer": "ipython3",
   "version": "3.6.5"
  }
 },
 "nbformat": 4,
 "nbformat_minor": 2
}
